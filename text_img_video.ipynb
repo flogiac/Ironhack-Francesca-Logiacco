{
 "cells": [
  {
   "cell_type": "markdown",
   "id": "fb72eb21-4cd1-4c73-8b29-89f7b5e1e02d",
   "metadata": {},
   "source": [
    "# Trip to Mexico"
   ]
  },
  {
   "cell_type": "markdown",
   "id": "ca9fb2bd-0e20-471b-87b8-bbbc2f4731f1",
   "metadata": {},
   "source": [
    "The best trip of my best friend"
   ]
  },
  {
   "cell_type": "code",
   "execution_count": 10,
   "id": "098dad11-262f-48dc-8584-0472edb4c75b",
   "metadata": {},
   "outputs": [
    {
     "name": "stdin",
     "output_type": "stream",
     "text": [
      "name of my friend Lion\n"
     ]
    },
    {
     "data": {
      "text/plain": [
       "'Lion'"
      ]
     },
     "execution_count": 10,
     "metadata": {},
     "output_type": "execute_result"
    }
   ],
   "source": [
    "input('name of my friend')"
   ]
  },
  {
   "cell_type": "markdown",
   "id": "7e8e069f-4228-4446-a735-489528043795",
   "metadata": {},
   "source": [
    "#### Here my friend picture"
   ]
  },
  {
   "attachments": {
    "1ee26dc5-4b52-4794-a253-6a74437dfcdf.jpeg": {
     "image/jpeg": "[encoded data removed]"
    }
   },
   "cell_type": "markdown",
   "id": "ea328e00-68ea-4e9b-b25d-75e768961d3d",
   "metadata": {},
   "source": [
    "![my sister.jpeg](attachment:1ee26dc5-4b52-4794-a253-6a74437dfcdf.jpeg)"
   ]
  },
  {
   "cell_type": "markdown",
   "id": "feebdfba-f63a-4789-8644-2982dad06450",
   "metadata": {},
   "source": [
    "## holiday's preferences"
   ]
  },
  {
   "cell_type": "code",
   "execution_count": 7,
   "id": "e219fb48-2831-491a-abed-fe0215129e16",
   "metadata": {},
   "outputs": [
    {
     "name": "stdin",
     "output_type": "stream",
     "text": [
      "which is her favourite meal? meat\n",
      "which is her favourite weather? sunny\n"
     ]
    },
    {
     "data": {
      "text/plain": [
       "'sunny'"
      ]
     },
     "execution_count": 7,
     "metadata": {},
     "output_type": "execute_result"
    }
   ],
   "source": [
    "input('which is her favourite meal?')\n",
    "input('which is her favourite weather?')"
   ]
  },
  {
   "attachments": {
    "96aadd45-e210-4ca3-9af5-cd496ff9d93a.jpg": {
     "image/jpeg": "[encoded data removed]"
    }
   },
   "cell_type": "markdown",
   "id": "6bedd830-e8dd-4638-97c4-a4981e7802d0",
   "metadata": {},
   "source": [
    "### holiday destination \n",
    "![destination.jpg](attachment:96aadd45-e210-4ca3-9af5-cd496ff9d93a.jpg)"
   ]
  },
  {
   "cell_type": "markdown",
   "id": "4533ab79-c731-4904-998c-5424e4582851",
   "metadata": {},
   "source": [
    "## top 3 things that the person likes to do at this destination\n",
    "\n",
    "- swim\n",
    "- take sun\n",
    "- run"
   ]
  },
  {
   "cell_type": "markdown",
   "id": "175c81a1-5d03-4cec-a91d-a0d1fd8a72dd",
   "metadata": {},
   "source": [
    "# annotations"
   ]
  },
  {
   "cell_type": "markdown",
   "id": "430f0ec8-68fa-4b15-9b67-b59b8efebf70",
   "metadata": {},
   "source": [
    "**I am** *happy to* learn a lot :)"
   ]
  },
  {
   "cell_type": "code",
   "execution_count": null,
   "id": "ae087882-f3d0-44bc-af27-3fc84c04f1cd",
   "metadata": {},
   "outputs": [],
   "source": [
    "\n"
   ]
  },
  {
   "cell_type": "code",
   "execution_count": 11,
   "id": "2e66ef64-197b-4796-818b-56e78b42511c",
   "metadata": {},
   "outputs": [],
   "source": [
    "\n",
    "\n",
    "\n",
    "from IPython.core.display import HTML"
   ]
  },
  {
   "cell_type": "code",
   "execution_count": 12,
   "id": "5819c10e-e7e9-4667-9824-ec94b6158574",
   "metadata": {},
   "outputs": [
    {
     "data": {
      "text/html": [
       "<iframe id=\"ytplayer\" type=\"text/html\" width=\"500\" height=\"300\" \\ src=\"https://www.youtube.com/embed/UByINB69_xo\" frameborder=\"2\"7>"
      ],
      "text/plain": [
       "<IPython.core.display.HTML object>"
      ]
     },
     "execution_count": 12,
     "metadata": {},
     "output_type": "execute_result"
    }
   ],
   "source": [
    "HTML('<iframe id=\"ytplayer\" type=\"text/html\" width=\"500\" height=\"300\" \\ src=\"https://www.youtube.com/embed/UByINB69_xo\" frameborder=\"2\"7>')"
   ]
  },
  {
   "cell_type": "markdown",
   "id": "65cd8796-b656-4939-b6a4-4ef9463bbb95",
   "metadata": {},
   "source": [
    "## VIDEOS\n",
    "\n",
    "text for myself:\n",
    "\n",
    "to load videos, use the following link changing XXXX with the code of the video's link after the =  \n",
    "\n",
    "HTML('<iframe id=\"ytplayer\" type=\"text/html\" width=\"500\" height=\"300\" \\ src=\"https://www.youtube.com/embed/XXXX\" frameborder=\"2\"7>')\n"
   ]
  },
  {
   "cell_type": "markdown",
   "id": "e37e68c7-cae2-4996-bcae-b202d3394a15",
   "metadata": {},
   "source": [
    "\n",
    "\n",
    "\n",
    "\n",
    "\n",
    "\n",
    "\n",
    "\n",
    "\n",
    "\n",
    "# color text"
   ]
  },
  {
   "cell_type": "code",
   "execution_count": 13,
   "id": "15ed85a0-8b21-43f6-91cf-4644387f85e2",
   "metadata": {},
   "outputs": [],
   "source": [
    "# in code mode"
   ]
  },
  {
   "cell_type": "code",
   "execution_count": 14,
   "id": "6d4c05af-ac69-4014-9903-0af6806015b3",
   "metadata": {},
   "outputs": [],
   "source": [
    "import colorama\n",
    "from colorama import Fore\n",
    "\n"
   ]
  },
  {
   "cell_type": "code",
   "execution_count": 15,
   "id": "50622494-ca59-4399-b26c-38d7959e211e",
   "metadata": {},
   "outputs": [
    {
     "name": "stdout",
     "output_type": "stream",
     "text": [
      "\u001b[31mThis text is red in color\n"
     ]
    }
   ],
   "source": [
    "print(Fore.RED + 'This text is red in color')"
   ]
  },
  {
   "cell_type": "code",
   "execution_count": 16,
   "id": "e3392ad7-0aa6-42bf-9922-3b7954e634f1",
   "metadata": {},
   "outputs": [
    {
     "name": "stdout",
     "output_type": "stream",
     "text": [
      "\u001b[34mThis text is blue in color\n"
     ]
    }
   ],
   "source": [
    "print(Fore.BLUE + 'This text is blue in color')"
   ]
  },
  {
   "cell_type": "code",
   "execution_count": 17,
   "id": "65ad9c62-6e3a-4a48-9667-d0ba157c7965",
   "metadata": {},
   "outputs": [],
   "source": [
    "# in markdown mode"
   ]
  },
  {
   "cell_type": "markdown",
   "id": "1f9ecbb9-0221-4e79-9df5-2c8b3386a65b",
   "metadata": {},
   "source": [
    "# $\\color{red}{\\text{HELLO,}}$ $\\color{blue}{\\text{I'M}}$ $\\color{green}{\\text{FRANCESCA}}$"
   ]
  },
  {
   "cell_type": "code",
   "execution_count": null,
   "id": "dd67fc53-5c14-41e7-827a-b8088ccdb2aa",
   "metadata": {},
   "outputs": [],
   "source": []
  },
  {
   "cell_type": "code",
   "execution_count": null,
   "id": "6d550a16-57a3-41bb-b861-7d43333a5716",
   "metadata": {},
   "outputs": [],
   "source": []
  }
 ],
 "metadata": {
  "kernelspec": {
   "display_name": "Python 3 (ipykernel)",
   "language": "python",
   "name": "python3"
  },
  "language_info": {
   "codemirror_mode": {
    "name": "ipython",
    "version": 3
   },
   "file_extension": ".py",
   "mimetype": "text/x-python",
   "name": "python",
   "nbconvert_exporter": "python",
   "pygments_lexer": "ipython3",
   "version": "3.9.7"
  }
 },
 "nbformat": 4,
 "nbformat_minor": 5
}
