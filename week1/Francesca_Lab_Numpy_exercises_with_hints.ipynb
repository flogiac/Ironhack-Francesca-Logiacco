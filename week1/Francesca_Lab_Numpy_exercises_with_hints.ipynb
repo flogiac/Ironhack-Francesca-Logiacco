{
 "cells": [
  {
   "cell_type": "markdown",
   "id": "66f13e0b-b4b6-4f57-803b-4054e399e82e",
   "metadata": {},
   "source": [
    "\n",
    "\n",
    "# numpy exercises\n",
    "\n",
    "This is a collection of exercises that have been collected in the numpy mailing list, on stack overflow\n",
    "and in the numpy documentation. The goal of this collection is to offer a quick reference for both old\n",
    "and new users but also to provide a set of exercises for those who teach.\n",
    "\n",
    "\n",
    "If you find an error or think you've a better way to solve some of them, feel\n",
    "free to open an issue at <https://github.com/rougier/numpy-100>.\n",
    "File automatically generated. See the documentation to update questions/answers/hints programmatically.\n",
    "\n",
    "#### 1. Import the numpy package under the name `np` (★☆☆)\n",
    "`hint: import … as`\n",
    "\n",
    "#### 2. Create a null vector of size 10 (★☆☆)\n",
    "`hint: np.zeros`\n",
    "\n",
    "#### 3. Create a null vector of size 10 but the fifth value which is 1 (★☆☆)\n",
    "`hint: array[4]`\n",
    "\n",
    "#### 4. Create a vector with values ranging from 10 to 49 (★☆☆)\n",
    "`hint: arange`\n",
    "\n",
    "#### 5. Create a 3x3 matrix with values ranging from 0 to 8 (★☆☆)\n",
    "`hint: reshape`\n",
    "\n",
    "#### 6. Find indices of non-zero elements from [1,2,0,0,4,0] (★☆☆)\n",
    "`hint: np.nonzero`\n",
    "\n",
    "#### 7. Create a 3x3 identity matrix (★☆☆)\n",
    "`hint: np.eye`\n",
    "\n",
    "#### 8. Create a 3x3x3 array with random values (★☆☆)\n",
    "`hint: np.random.random`\n",
    "\n",
    "#### 9. Create a 10x10 array with random values and find the minimum and maximum values (★☆☆)\n",
    "`hint: min, max`\n",
    "\n",
    "#### 10. Create a random vector of size 30 and find the mean value (★☆☆)\n",
    "`hint: mean`\n",
    "\n",
    "#### 11. Create a 5x5 matrix with values 1,2,3,4 just below the diagonal (★☆☆)\n",
    "`hint: np.diag`\n",
    "\n",
    "#### 12. Normalize a 5x5 random matrix (★☆☆)\n",
    "`hint: (x -mean)/std`\n",
    "\n",
    "#### 13. How to find common values between two arrays? (★☆☆)\n",
    "`hint: np.intersect1d`\n",
    "\n",
    "#### 14. Create a random vector of size 10 and sort it (★★☆)\n",
    "`hint: sort`\n",
    "\n",
    "#### 15. Create random vector of size 10 and replace the maximum value by 0 (★★☆)\n",
    "`hint: argmax`\n",
    "\n",
    "#### 16. Subtract the mean of each row of a matrix (★★☆)\n",
    "`hint: mean(axis=,keepdims=)`\n",
    "\n",
    "#### 17. How to get the n largest values of an array (★★★)\n",
    "`Z = np.arange(10000)\n",
    "np.random.shuffle(Z)\n",
    "n = 5\n",
    "hint: np.argsort | np.argpartition`\n",
    "\n",
    "#### 18. Create a random 5*3 matrix and replace items that are larger than 4 by their squares ( Example:  6 --> 36) \n",
    "`hint: np.where`\n"
   ]
  },
  {
   "cell_type": "code",
   "execution_count": 87,
   "id": "312b0a46-c03d-4c77-926d-862dee51fb74",
   "metadata": {},
   "outputs": [],
   "source": [
    "# 1. Import the numpy package under the name np (★☆☆)\n",
    "\n",
    "import numpy as np"
   ]
  },
  {
   "cell_type": "code",
   "execution_count": 88,
   "id": "4c30940b-1cc7-470a-a1af-22c93b5f97a3",
   "metadata": {},
   "outputs": [
    {
     "name": "stdout",
     "output_type": "stream",
     "text": [
      "[0. 0. 0. 0. 0. 0. 0. 0. 0. 0.]\n"
     ]
    }
   ],
   "source": [
    "#2. Create a null vector of size 10 (★☆☆)\n",
    "\n",
    "a = np.zeros((10))\n",
    "print(a)"
   ]
  },
  {
   "cell_type": "code",
   "execution_count": 89,
   "id": "187e84fa-1e9d-4bed-a60e-81b56e8799f9",
   "metadata": {},
   "outputs": [
    {
     "name": "stdout",
     "output_type": "stream",
     "text": [
      "[0. 0. 0. 0. 1. 0. 0. 0. 0. 0.]\n"
     ]
    }
   ],
   "source": [
    "#3. Create a null vector of size 10 but the fifth value which is 1 (★☆☆)¶\n",
    "\n",
    "a[4] = 1\n",
    "print(a)"
   ]
  },
  {
   "cell_type": "code",
   "execution_count": 90,
   "id": "00a8df5b-1e82-4497-addd-59d2f1f880e7",
   "metadata": {},
   "outputs": [
    {
     "data": {
      "text/plain": [
       "array([10, 11, 12, 13, 14, 15, 16, 17, 18, 19, 20, 21, 22, 23, 24, 25, 26,\n",
       "       27, 28, 29, 30, 31, 32, 33, 34, 35, 36, 37, 38, 39, 40, 41, 42, 43,\n",
       "       44, 45, 46, 47, 48, 49])"
      ]
     },
     "execution_count": 90,
     "metadata": {},
     "output_type": "execute_result"
    }
   ],
   "source": [
    "#4. Create a vector with values ranging from 10 to 49 (★☆☆)¶\n",
    "\n",
    "np.arange(10, 50)"
   ]
  },
  {
   "cell_type": "code",
   "execution_count": 91,
   "id": "29a153e3-0006-493d-93a3-05eaca0ee265",
   "metadata": {},
   "outputs": [
    {
     "name": "stdout",
     "output_type": "stream",
     "text": [
      "[[0 1 2]\n",
      " [3 4 5]\n",
      " [6 7 8]]\n"
     ]
    }
   ],
   "source": [
    "#5. Create a 3x3 matrix with values ranging from 0 to 8 (★☆☆)\n",
    "\n",
    "b = np.arange(0, 9).reshape((3, 3))\n",
    "print(b)"
   ]
  },
  {
   "cell_type": "code",
   "execution_count": 92,
   "id": "5a21ad73-4a54-46af-ad82-3f6218a7438e",
   "metadata": {},
   "outputs": [
    {
     "data": {
      "text/plain": [
       "(array([0, 1, 4]),)"
      ]
     },
     "execution_count": 92,
     "metadata": {},
     "output_type": "execute_result"
    }
   ],
   "source": [
    "#6. Find indices of non-zero elements from [1,2,0,0,4,0] (★☆☆)\n",
    "\n",
    "c = np.array([1,2,0,0,4,0])\n",
    "np.nonzero(c)"
   ]
  },
  {
   "cell_type": "code",
   "execution_count": 93,
   "id": "dbc8c023-13ad-4339-b048-e5d59763f67b",
   "metadata": {},
   "outputs": [
    {
     "name": "stdout",
     "output_type": "stream",
     "text": [
      "[[1. 0. 0.]\n",
      " [0. 1. 0.]\n",
      " [0. 0. 1.]]\n"
     ]
    }
   ],
   "source": [
    "#7. Create a 3x3 identity matrix (★☆☆)\n",
    "\n",
    "d = np.eye(3)\n",
    "print(d)"
   ]
  },
  {
   "cell_type": "code",
   "execution_count": 94,
   "id": "b66e8587-1922-4c8e-b4cc-8d08e9f9a7a9",
   "metadata": {},
   "outputs": [
    {
     "data": {
      "text/plain": [
       "array([[0.2247385 , 0.88159073, 0.43972231],\n",
       "       [0.93307084, 0.51235773, 0.98250396],\n",
       "       [0.99953956, 0.50949975, 0.50245559]])"
      ]
     },
     "execution_count": 94,
     "metadata": {},
     "output_type": "execute_result"
    }
   ],
   "source": [
    "#8. Create a 3x3x3 array with random values (★☆☆)\n",
    "\n",
    "\n",
    "np.random.random((3,3))"
   ]
  },
  {
   "cell_type": "code",
   "execution_count": 95,
   "id": "203c23ec-2a75-413e-a703-a8c213d30037",
   "metadata": {},
   "outputs": [
    {
     "name": "stdout",
     "output_type": "stream",
     "text": [
      "[[0.58626925 0.58940149 0.61630204 0.81273097 0.68960533 0.03070382\n",
      "  0.86700487 0.75562235 0.24594475 0.05672803]\n",
      " [0.32713517 0.13029346 0.50220504 0.15836022 0.91721191 0.71406361\n",
      "  0.15048171 0.32545551 0.33365686 0.73891452]\n",
      " [0.27662326 0.45062456 0.3732473  0.18150829 0.71850959 0.32560585\n",
      "  0.61915735 0.7779     0.29520974 0.8092637 ]\n",
      " [0.35955216 0.97930026 0.83542275 0.899419   0.74210405 0.2448005\n",
      "  0.42388545 0.74691822 0.89570327 0.49041849]\n",
      " [0.71053313 0.77767942 0.1251745  0.49468151 0.44326245 0.88674899\n",
      "  0.03228709 0.61254817 0.91167181 0.08928335]\n",
      " [0.93165174 0.95956609 0.10828029 0.71057478 0.70329448 0.656227\n",
      "  0.45605142 0.19692273 0.63762914 0.19779594]\n",
      " [0.795131   0.91071272 0.92032627 0.65245169 0.94971283 0.91236011\n",
      "  0.49213567 0.01221767 0.44508516 0.47016907]\n",
      " [0.73963587 0.39574449 0.31705125 0.32372505 0.64630876 0.87630767\n",
      "  0.83872523 0.81752343 0.8438311  0.42628354]\n",
      " [0.62546589 0.93421989 0.73504633 0.18188711 0.65889428 0.71371102\n",
      "  0.22596055 0.73977479 0.99401043 0.74538643]\n",
      " [0.59160971 0.7264567  0.81338068 0.24890701 0.37374889 0.05062206\n",
      "  0.87437753 0.86423433 0.81858478 0.0848412 ]]\n"
     ]
    }
   ],
   "source": [
    "#9. Create a 10x10 array with random values and find the minimum and maximum values (★☆☆)\n",
    "\n",
    "f=np.random.random((10,10))\n",
    "print(f)"
   ]
  },
  {
   "cell_type": "code",
   "execution_count": 96,
   "id": "72efdcac-cd24-4f6c-9a51-c06f4f1526a6",
   "metadata": {},
   "outputs": [
    {
     "data": {
      "text/plain": [
       "0.9940104275301752"
      ]
     },
     "execution_count": 96,
     "metadata": {},
     "output_type": "execute_result"
    }
   ],
   "source": [
    "#10. Create a random vector of size 30 and find the mean value (★☆☆)\n",
    "\n",
    "np.amax(f)\n"
   ]
  },
  {
   "cell_type": "code",
   "execution_count": 33,
   "id": "2d18219a-803c-4139-914e-e17bb048e1f5",
   "metadata": {},
   "outputs": [
    {
     "data": {
      "text/plain": [
       "0.002020998540269381"
      ]
     },
     "execution_count": 33,
     "metadata": {},
     "output_type": "execute_result"
    }
   ],
   "source": [
    "np.amin(f)"
   ]
  },
  {
   "cell_type": "code",
   "execution_count": 97,
   "id": "f9cff349-0f20-4016-bd5e-91766898fb13",
   "metadata": {},
   "outputs": [
    {
     "name": "stdout",
     "output_type": "stream",
     "text": [
      "[0.80174743 0.54237976 0.26431801 0.08211276 0.5926734  0.66382764\n",
      " 0.00303369 0.02947761 0.53773883 0.36104997 0.31995177 0.77380433\n",
      " 0.26734028 0.98393813 0.19420979 0.50806853 0.98243226 0.04432016\n",
      " 0.476967   0.48728961 0.75123847 0.69121045 0.5249373  0.730539\n",
      " 0.97405536 0.64366184 0.22354394 0.86624204 0.7299421  0.34511672]\n"
     ]
    }
   ],
   "source": [
    "#11. Create a 5x5 matrix with values 1,2,3,4 just below the diagonal (★☆☆)\n",
    "\n",
    "\n",
    "g = np.random.random(30)\n",
    "print(g)"
   ]
  },
  {
   "cell_type": "code",
   "execution_count": 101,
   "id": "cdc10ae6-dc70-47e8-8ac5-4441c7c09707",
   "metadata": {},
   "outputs": [
    {
     "data": {
      "text/plain": [
       "0.5132389393453541"
      ]
     },
     "execution_count": 101,
     "metadata": {},
     "output_type": "execute_result"
    }
   ],
   "source": [
    "np.mean(g)"
   ]
  },
  {
   "cell_type": "code",
   "execution_count": 102,
   "id": "0dc10b74-9004-4a73-8604-dccf37003b59",
   "metadata": {},
   "outputs": [
    {
     "name": "stdout",
     "output_type": "stream",
     "text": [
      "[[ 0  1  2  3  4]\n",
      " [ 5  6  7  8  9]\n",
      " [10 11 12 13 14]\n",
      " [15 16 17 18 19]\n",
      " [20 21 22 23 24]]\n"
     ]
    }
   ],
   "source": [
    "h = np.arange(0,26)\n",
    "i = np.arange(0, 25).reshape((5, 5))\n",
    "print(i)"
   ]
  },
  {
   "cell_type": "code",
   "execution_count": 49,
   "id": "4e7b8f96-3c0d-4d2c-846d-93130203f78a",
   "metadata": {},
   "outputs": [
    {
     "name": "stdout",
     "output_type": "stream",
     "text": [
      "[[ 0  1  2  3  4]\n",
      " [ 1  6  7  8  9]\n",
      " [10  2 12 13 14]\n",
      " [15 16  3 18 19]\n",
      " [20 21 22  4 24]]\n"
     ]
    }
   ],
   "source": [
    "i[1,0]=1\n",
    "i[2,1]=2\n",
    "i[3,2]=3\n",
    "i[4,3]=4\n",
    "print(i)"
   ]
  },
  {
   "cell_type": "code",
   "execution_count": 103,
   "id": "33545f1f-b8f4-44f4-a85e-86ea694d7fa0",
   "metadata": {},
   "outputs": [
    {
     "name": "stdout",
     "output_type": "stream",
     "text": [
      "[[0.61084673 0.55014322 0.66622187 0.37674017 0.87240754]\n",
      " [0.08203236 0.39053927 0.0728521  0.08926246 0.661474  ]\n",
      " [0.95837745 0.71259019 0.18141821 0.3836102  0.68197181]\n",
      " [0.10766065 0.1940795  0.86923823 0.39796569 0.75752503]\n",
      " [0.03496755 0.52276759 0.66893013 0.23815234 0.75674556]]\n"
     ]
    }
   ],
   "source": [
    "#12. Normalize a 5x5 random matrix (★☆☆)\n",
    "\n",
    "l = np.random.random(25)\n",
    "m = np.random.random(25).reshape((5, 5))\n",
    "print(m)"
   ]
  },
  {
   "cell_type": "code",
   "execution_count": 105,
   "id": "882db71d-06fc-4165-b7bc-cd6033dd2a4d",
   "metadata": {},
   "outputs": [
    {
     "name": "stdout",
     "output_type": "stream",
     "text": [
      "[[ 0.48708925  0.27174512  0.68353113 -0.3433977   1.41496942]\n",
      " [-1.38886603 -0.29444577 -1.42143275 -1.36321741  0.66668817]\n",
      " [ 1.71994548  0.84802152 -1.03629731 -0.31902644  0.73940361]\n",
      " [-1.29795031 -0.99138168  1.40372639 -0.26810073  1.0074267 ]\n",
      " [-1.5558272   0.17463078  0.6931386  -0.83503442  1.00466157]]\n"
     ]
    }
   ],
   "source": [
    "z = (m[0:5] - np.mean(m[0:5])) / (np.std(m[0:5]))\n",
    "print(z)"
   ]
  },
  {
   "cell_type": "code",
   "execution_count": 100,
   "id": "245b7871-c81c-425a-b2ff-7644af7158ff",
   "metadata": {},
   "outputs": [
    {
     "name": "stdout",
     "output_type": "stream",
     "text": [
      "[10 11 12 13 14 15 16 17 18 19]\n"
     ]
    }
   ],
   "source": [
    "#13. How to find common values between two arrays? (★☆☆)\n",
    "\n",
    "o = np.arange(0,20)\n",
    "p = np.arange(10,30)\n",
    "n = np.intersect1d(o,p)\n",
    "print(n)"
   ]
  },
  {
   "cell_type": "code",
   "execution_count": 106,
   "id": "7af57fbe-67f9-42e0-921b-52a2129ca079",
   "metadata": {},
   "outputs": [
    {
     "data": {
      "text/plain": [
       "array([0.07678143, 0.14442142, 0.23606314, 0.2472639 , 0.30153306,\n",
       "       0.3136412 , 0.46702577, 0.7672384 , 0.83460694, 0.84081755])"
      ]
     },
     "execution_count": 106,
     "metadata": {},
     "output_type": "execute_result"
    }
   ],
   "source": [
    "#14. Create a random vector of size 10 and sort it (★★☆)\n",
    "\n",
    "q = np.random.random(10)\n",
    "np.sort(q)\n"
   ]
  },
  {
   "cell_type": "code",
   "execution_count": 107,
   "id": "db59ea48-27aa-4761-bc9f-188e4f315e96",
   "metadata": {},
   "outputs": [
    {
     "name": "stdout",
     "output_type": "stream",
     "text": [
      "[0.13760508 0.69239192 0.87724058 0.00133933 0.7299572  0.38109499\n",
      " 0.15195169 0.44278981 0.11753909 0.31333389]\n"
     ]
    }
   ],
   "source": [
    "#15. Create random vector of size 10 and replace the maximum value by 0 (★★☆)¶\n",
    "\n",
    "r = np.random.random(10)\n",
    "print(r)"
   ]
  },
  {
   "cell_type": "code",
   "execution_count": 71,
   "id": "1e48eb1f-b1db-4ca5-b378-38747d0fc225",
   "metadata": {},
   "outputs": [
    {
     "data": {
      "text/plain": [
       "5"
      ]
     },
     "execution_count": 71,
     "metadata": {},
     "output_type": "execute_result"
    }
   ],
   "source": [
    "np.argmax(r)"
   ]
  },
  {
   "cell_type": "code",
   "execution_count": 72,
   "id": "605c3963-f2d7-4cd7-a64e-ba7bcaeb5666",
   "metadata": {},
   "outputs": [],
   "source": [
    "r[5]=0"
   ]
  },
  {
   "cell_type": "code",
   "execution_count": 73,
   "id": "d0c05e42-7f90-4bd6-8145-6790eaad7908",
   "metadata": {},
   "outputs": [
    {
     "name": "stdout",
     "output_type": "stream",
     "text": [
      "[0.38731823 0.34930209 0.54597729 0.62707478 0.73068364 0.\n",
      " 0.84470467 0.16186429 0.19988836 0.79096548]\n"
     ]
    }
   ],
   "source": [
    "print(r)"
   ]
  },
  {
   "cell_type": "code",
   "execution_count": 108,
   "id": "cb6b26ac-9177-4054-84e9-32f1eb9bd96f",
   "metadata": {},
   "outputs": [
    {
     "name": "stdout",
     "output_type": "stream",
     "text": [
      "[[0.8500937  0.793726   0.25571722 0.86084992 0.1462727 ]\n",
      " [0.17290986 0.13124866 0.2816039  0.33851909 0.61077873]\n",
      " [0.43287    0.91599908 0.85032908 0.73771356 0.10413392]\n",
      " [0.21304082 0.37202443 0.70101351 0.68642871 0.89180283]\n",
      " [0.91569049 0.11067242 0.59510921 0.11303795 0.87145234]]\n",
      "\n",
      "Subtract the mean of each row of the matrix:\n",
      "\n",
      "[[ 0.26876179  0.21239409 -0.32561469  0.27951801 -0.43505921]\n",
      " [-0.13410219 -0.17576339 -0.02540815  0.03150704  0.30376668]\n",
      " [-0.17533913  0.30778996  0.24211995  0.12950443 -0.50407521]\n",
      " [-0.35982124 -0.20083764  0.12815145  0.11356665  0.31894077]\n",
      " [ 0.39449801 -0.41052006  0.07391673 -0.40815453  0.35025986]]\n"
     ]
    }
   ],
   "source": [
    "#16. Subtract the mean of each row of a matrix (★★☆)\n",
    "\n",
    "\n",
    "s = np.random.random((5,5))\n",
    "print(s)\n",
    "\n",
    "print(\"\\nSubtract the mean of each row of the matrix:\\n\")\n",
    "t = s - s.mean(axis=1, keepdims=True)\n",
    "print(t)\n"
   ]
  },
  {
   "cell_type": "code",
   "execution_count": 120,
   "id": "057f391f-379c-4c22-8da8-3084f0fc5152",
   "metadata": {},
   "outputs": [
    {
     "data": {
      "text/plain": [
       "array([ 5,  4, 49, 13, 42,  3, 38, 28, 29, 47, 25, 27, 35, 15,  2, 40, 23,\n",
       "       30, 33, 46, 10, 26, 31,  6, 16, 21, 32,  7, 36,  1, 20,  8, 14, 44,\n",
       "        9, 34, 12, 18, 43, 45,  0, 41, 37, 19, 48, 22, 39, 11, 24, 17])"
      ]
     },
     "execution_count": 120,
     "metadata": {},
     "output_type": "execute_result"
    }
   ],
   "source": [
    "#### 17. How to get the n largest values of an array (★★★)\n",
    "\n",
    "u = np.arange(50)\n",
    "np.random.shuffle(u)\n",
    "np.argsort(u)\n"
   ]
  },
  {
   "cell_type": "code",
   "execution_count": 121,
   "id": "da34fbc2-7448-4de0-83b5-d428172ddcf3",
   "metadata": {},
   "outputs": [
    {
     "data": {
      "text/plain": [
       "array([22, 39, 11, 24, 17])"
      ]
     },
     "execution_count": 121,
     "metadata": {},
     "output_type": "execute_result"
    }
   ],
   "source": [
    "np.argpartition(u, -5)[-5:]"
   ]
  },
  {
   "cell_type": "code",
   "execution_count": 147,
   "id": "4b2b1c25-7c55-4a5f-bfd6-c79930265673",
   "metadata": {},
   "outputs": [
    {
     "name": "stdout",
     "output_type": "stream",
     "text": [
      "[[14  3  9]\n",
      " [ 6  1 10]\n",
      " [ 3  2  3]\n",
      " [10  9  9]\n",
      " [ 0 13 14]]\n"
     ]
    }
   ],
   "source": [
    "#18. Create a random 5*3 matrix and replace items that are larger than 4 by their squares ( Example: 6 --> 36)\n",
    "\n",
    "v = np.random.randint(0,15,15)\n",
    "j = np.random.randint(0,15,15).reshape((5, 3))\n",
    "print(j)\n"
   ]
  },
  {
   "cell_type": "code",
   "execution_count": 155,
   "id": "69c3184c-4567-444c-8e86-2a8e3549daac",
   "metadata": {},
   "outputs": [
    {
     "name": "stdout",
     "output_type": "stream",
     "text": [
      "[[196   3  81]\n",
      " [ 36   1 100]\n",
      " [  3   2   3]\n",
      " [100  81  81]\n",
      " [  0 169 196]]\n"
     ]
    }
   ],
   "source": [
    "print(np.where(j > 4, j**2, j))\n"
   ]
  },
  {
   "cell_type": "code",
   "execution_count": null,
   "id": "0b21bfb6-bdf8-4f96-9533-4def8a0f686a",
   "metadata": {},
   "outputs": [],
   "source": []
  },
  {
   "cell_type": "code",
   "execution_count": null,
   "id": "fa558c37-e70c-4dfa-93f3-56bfca2e10fd",
   "metadata": {},
   "outputs": [],
   "source": []
  }
 ],
 "metadata": {
  "kernelspec": {
   "display_name": "Python 3 (ipykernel)",
   "language": "python",
   "name": "python3"
  },
  "language_info": {
   "codemirror_mode": {
    "name": "ipython",
    "version": 3
   },
   "file_extension": ".py",
   "mimetype": "text/x-python",
   "name": "python",
   "nbconvert_exporter": "python",
   "pygments_lexer": "ipython3",
   "version": "3.9.7"
  }
 },
 "nbformat": 4,
 "nbformat_minor": 5
}
