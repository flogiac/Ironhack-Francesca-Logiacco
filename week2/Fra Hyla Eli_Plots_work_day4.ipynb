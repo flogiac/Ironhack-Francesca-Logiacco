{
 "cells": [
  {
   "cell_type": "markdown",
   "id": "0577cc8d-8342-41a1-a67e-eebaadf488f4",
   "metadata": {},
   "source": [
    "# $\\color{violet}{\\text{Activity 1}}$"
   ]
  },
  {
   "cell_type": "code",
   "execution_count": 1,
   "id": "9fe0144e-d39d-46ff-a232-f2d6c01ed5bc",
   "metadata": {},
   "outputs": [
    {
     "name": "stderr",
     "output_type": "stream",
     "text": [
      "/opt/anaconda3/envs/DA_Env/lib/python3.9/site-packages/statsmodels/tsa/base/tsa_model.py:7: FutureWarning: pandas.Int64Index is deprecated and will be removed from pandas in a future version. Use pandas.Index with the appropriate dtype instead.\n",
      "  from pandas import (to_datetime, Int64Index, DatetimeIndex, Period,\n",
      "/opt/anaconda3/envs/DA_Env/lib/python3.9/site-packages/statsmodels/tsa/base/tsa_model.py:7: FutureWarning: pandas.Float64Index is deprecated and will be removed from pandas in a future version. Use pandas.Index with the appropriate dtype instead.\n",
      "  from pandas import (to_datetime, Int64Index, DatetimeIndex, Period,\n"
     ]
    }
   ],
   "source": [
    "import numpy as np\n",
    "import pandas as pd\n",
    "import matplotlib.pyplot as plt\n",
    "%matplotlib inline\n",
    "import seaborn as sns\n",
    "import statsmodels.api as sm\n",
    "from scipy.stats import boxcox\n",
    "pd.options.display.max_rows = 50"
   ]
  },
  {
   "cell_type": "code",
   "execution_count": 2,
   "id": "198a83a6-547d-459b-94fb-4d7e97549331",
   "metadata": {},
   "outputs": [
    {
     "name": "stdout",
     "output_type": "stream",
     "text": [
      "1.4.1\n"
     ]
    }
   ],
   "source": [
    "import pandas as pd\n",
    "\n",
    "print(pd.__version__)"
   ]
  },
  {
   "cell_type": "markdown",
   "id": "b5756e7f-670c-44da-83a9-90838b0d1ab4",
   "metadata": {
    "tags": []
   },
   "source": [
    "<b> Aggregate data into one Data Frame using Pandas."
   ]
  },
  {
   "cell_type": "code",
   "execution_count": 3,
   "id": "66d249a8-601b-42e4-a49e-0027ebdf862a",
   "metadata": {},
   "outputs": [
    {
     "ename": "FileNotFoundError",
     "evalue": "[Errno 2] No such file or directory: 'Data/file3.csv'",
     "output_type": "error",
     "traceback": [
      "\u001b[0;31m---------------------------------------------------------------------------\u001b[0m",
      "\u001b[0;31mFileNotFoundError\u001b[0m                         Traceback (most recent call last)",
      "Input \u001b[0;32mIn [3]\u001b[0m, in \u001b[0;36m<cell line: 3>\u001b[0;34m()\u001b[0m\n\u001b[1;32m      1\u001b[0m \u001b[38;5;66;03m# before aggregating data into one Data Frame, modify first the file3 since it is the different one comparing with file 2 and file 1.\u001b[39;00m\n\u001b[0;32m----> 3\u001b[0m file3\u001b[38;5;241m=\u001b[39m\u001b[43mpd\u001b[49m\u001b[38;5;241;43m.\u001b[39;49m\u001b[43mread_csv\u001b[49m\u001b[43m(\u001b[49m\u001b[38;5;124;43m'\u001b[39;49m\u001b[38;5;124;43mData/file3.csv\u001b[39;49m\u001b[38;5;124;43m'\u001b[39;49m\u001b[43m)\u001b[49m\n\u001b[1;32m      4\u001b[0m file3\n",
      "File \u001b[0;32m/opt/anaconda3/envs/DA_Env/lib/python3.9/site-packages/pandas/util/_decorators.py:311\u001b[0m, in \u001b[0;36mdeprecate_nonkeyword_arguments.<locals>.decorate.<locals>.wrapper\u001b[0;34m(*args, **kwargs)\u001b[0m\n\u001b[1;32m    305\u001b[0m \u001b[38;5;28;01mif\u001b[39;00m \u001b[38;5;28mlen\u001b[39m(args) \u001b[38;5;241m>\u001b[39m num_allow_args:\n\u001b[1;32m    306\u001b[0m     warnings\u001b[38;5;241m.\u001b[39mwarn(\n\u001b[1;32m    307\u001b[0m         msg\u001b[38;5;241m.\u001b[39mformat(arguments\u001b[38;5;241m=\u001b[39marguments),\n\u001b[1;32m    308\u001b[0m         \u001b[38;5;167;01mFutureWarning\u001b[39;00m,\n\u001b[1;32m    309\u001b[0m         stacklevel\u001b[38;5;241m=\u001b[39mstacklevel,\n\u001b[1;32m    310\u001b[0m     )\n\u001b[0;32m--> 311\u001b[0m \u001b[38;5;28;01mreturn\u001b[39;00m \u001b[43mfunc\u001b[49m\u001b[43m(\u001b[49m\u001b[38;5;241;43m*\u001b[39;49m\u001b[43margs\u001b[49m\u001b[43m,\u001b[49m\u001b[43m \u001b[49m\u001b[38;5;241;43m*\u001b[39;49m\u001b[38;5;241;43m*\u001b[39;49m\u001b[43mkwargs\u001b[49m\u001b[43m)\u001b[49m\n",
      "File \u001b[0;32m/opt/anaconda3/envs/DA_Env/lib/python3.9/site-packages/pandas/io/parsers/readers.py:680\u001b[0m, in \u001b[0;36mread_csv\u001b[0;34m(filepath_or_buffer, sep, delimiter, header, names, index_col, usecols, squeeze, prefix, mangle_dupe_cols, dtype, engine, converters, true_values, false_values, skipinitialspace, skiprows, skipfooter, nrows, na_values, keep_default_na, na_filter, verbose, skip_blank_lines, parse_dates, infer_datetime_format, keep_date_col, date_parser, dayfirst, cache_dates, iterator, chunksize, compression, thousands, decimal, lineterminator, quotechar, quoting, doublequote, escapechar, comment, encoding, encoding_errors, dialect, error_bad_lines, warn_bad_lines, on_bad_lines, delim_whitespace, low_memory, memory_map, float_precision, storage_options)\u001b[0m\n\u001b[1;32m    665\u001b[0m kwds_defaults \u001b[38;5;241m=\u001b[39m _refine_defaults_read(\n\u001b[1;32m    666\u001b[0m     dialect,\n\u001b[1;32m    667\u001b[0m     delimiter,\n\u001b[0;32m   (...)\u001b[0m\n\u001b[1;32m    676\u001b[0m     defaults\u001b[38;5;241m=\u001b[39m{\u001b[38;5;124m\"\u001b[39m\u001b[38;5;124mdelimiter\u001b[39m\u001b[38;5;124m\"\u001b[39m: \u001b[38;5;124m\"\u001b[39m\u001b[38;5;124m,\u001b[39m\u001b[38;5;124m\"\u001b[39m},\n\u001b[1;32m    677\u001b[0m )\n\u001b[1;32m    678\u001b[0m kwds\u001b[38;5;241m.\u001b[39mupdate(kwds_defaults)\n\u001b[0;32m--> 680\u001b[0m \u001b[38;5;28;01mreturn\u001b[39;00m \u001b[43m_read\u001b[49m\u001b[43m(\u001b[49m\u001b[43mfilepath_or_buffer\u001b[49m\u001b[43m,\u001b[49m\u001b[43m \u001b[49m\u001b[43mkwds\u001b[49m\u001b[43m)\u001b[49m\n",
      "File \u001b[0;32m/opt/anaconda3/envs/DA_Env/lib/python3.9/site-packages/pandas/io/parsers/readers.py:575\u001b[0m, in \u001b[0;36m_read\u001b[0;34m(filepath_or_buffer, kwds)\u001b[0m\n\u001b[1;32m    572\u001b[0m _validate_names(kwds\u001b[38;5;241m.\u001b[39mget(\u001b[38;5;124m\"\u001b[39m\u001b[38;5;124mnames\u001b[39m\u001b[38;5;124m\"\u001b[39m, \u001b[38;5;28;01mNone\u001b[39;00m))\n\u001b[1;32m    574\u001b[0m \u001b[38;5;66;03m# Create the parser.\u001b[39;00m\n\u001b[0;32m--> 575\u001b[0m parser \u001b[38;5;241m=\u001b[39m \u001b[43mTextFileReader\u001b[49m\u001b[43m(\u001b[49m\u001b[43mfilepath_or_buffer\u001b[49m\u001b[43m,\u001b[49m\u001b[43m \u001b[49m\u001b[38;5;241;43m*\u001b[39;49m\u001b[38;5;241;43m*\u001b[39;49m\u001b[43mkwds\u001b[49m\u001b[43m)\u001b[49m\n\u001b[1;32m    577\u001b[0m \u001b[38;5;28;01mif\u001b[39;00m chunksize \u001b[38;5;129;01mor\u001b[39;00m iterator:\n\u001b[1;32m    578\u001b[0m     \u001b[38;5;28;01mreturn\u001b[39;00m parser\n",
      "File \u001b[0;32m/opt/anaconda3/envs/DA_Env/lib/python3.9/site-packages/pandas/io/parsers/readers.py:933\u001b[0m, in \u001b[0;36mTextFileReader.__init__\u001b[0;34m(self, f, engine, **kwds)\u001b[0m\n\u001b[1;32m    930\u001b[0m     \u001b[38;5;28mself\u001b[39m\u001b[38;5;241m.\u001b[39moptions[\u001b[38;5;124m\"\u001b[39m\u001b[38;5;124mhas_index_names\u001b[39m\u001b[38;5;124m\"\u001b[39m] \u001b[38;5;241m=\u001b[39m kwds[\u001b[38;5;124m\"\u001b[39m\u001b[38;5;124mhas_index_names\u001b[39m\u001b[38;5;124m\"\u001b[39m]\n\u001b[1;32m    932\u001b[0m \u001b[38;5;28mself\u001b[39m\u001b[38;5;241m.\u001b[39mhandles: IOHandles \u001b[38;5;241m|\u001b[39m \u001b[38;5;28;01mNone\u001b[39;00m \u001b[38;5;241m=\u001b[39m \u001b[38;5;28;01mNone\u001b[39;00m\n\u001b[0;32m--> 933\u001b[0m \u001b[38;5;28mself\u001b[39m\u001b[38;5;241m.\u001b[39m_engine \u001b[38;5;241m=\u001b[39m \u001b[38;5;28;43mself\u001b[39;49m\u001b[38;5;241;43m.\u001b[39;49m\u001b[43m_make_engine\u001b[49m\u001b[43m(\u001b[49m\u001b[43mf\u001b[49m\u001b[43m,\u001b[49m\u001b[43m \u001b[49m\u001b[38;5;28;43mself\u001b[39;49m\u001b[38;5;241;43m.\u001b[39;49m\u001b[43mengine\u001b[49m\u001b[43m)\u001b[49m\n",
      "File \u001b[0;32m/opt/anaconda3/envs/DA_Env/lib/python3.9/site-packages/pandas/io/parsers/readers.py:1217\u001b[0m, in \u001b[0;36mTextFileReader._make_engine\u001b[0;34m(self, f, engine)\u001b[0m\n\u001b[1;32m   1213\u001b[0m     mode \u001b[38;5;241m=\u001b[39m \u001b[38;5;124m\"\u001b[39m\u001b[38;5;124mrb\u001b[39m\u001b[38;5;124m\"\u001b[39m\n\u001b[1;32m   1214\u001b[0m \u001b[38;5;66;03m# error: No overload variant of \"get_handle\" matches argument types\u001b[39;00m\n\u001b[1;32m   1215\u001b[0m \u001b[38;5;66;03m# \"Union[str, PathLike[str], ReadCsvBuffer[bytes], ReadCsvBuffer[str]]\"\u001b[39;00m\n\u001b[1;32m   1216\u001b[0m \u001b[38;5;66;03m# , \"str\", \"bool\", \"Any\", \"Any\", \"Any\", \"Any\", \"Any\"\u001b[39;00m\n\u001b[0;32m-> 1217\u001b[0m \u001b[38;5;28mself\u001b[39m\u001b[38;5;241m.\u001b[39mhandles \u001b[38;5;241m=\u001b[39m \u001b[43mget_handle\u001b[49m\u001b[43m(\u001b[49m\u001b[43m  \u001b[49m\u001b[38;5;66;43;03m# type: ignore[call-overload]\u001b[39;49;00m\n\u001b[1;32m   1218\u001b[0m \u001b[43m    \u001b[49m\u001b[43mf\u001b[49m\u001b[43m,\u001b[49m\n\u001b[1;32m   1219\u001b[0m \u001b[43m    \u001b[49m\u001b[43mmode\u001b[49m\u001b[43m,\u001b[49m\n\u001b[1;32m   1220\u001b[0m \u001b[43m    \u001b[49m\u001b[43mencoding\u001b[49m\u001b[38;5;241;43m=\u001b[39;49m\u001b[38;5;28;43mself\u001b[39;49m\u001b[38;5;241;43m.\u001b[39;49m\u001b[43moptions\u001b[49m\u001b[38;5;241;43m.\u001b[39;49m\u001b[43mget\u001b[49m\u001b[43m(\u001b[49m\u001b[38;5;124;43m\"\u001b[39;49m\u001b[38;5;124;43mencoding\u001b[39;49m\u001b[38;5;124;43m\"\u001b[39;49m\u001b[43m,\u001b[49m\u001b[43m \u001b[49m\u001b[38;5;28;43;01mNone\u001b[39;49;00m\u001b[43m)\u001b[49m\u001b[43m,\u001b[49m\n\u001b[1;32m   1221\u001b[0m \u001b[43m    \u001b[49m\u001b[43mcompression\u001b[49m\u001b[38;5;241;43m=\u001b[39;49m\u001b[38;5;28;43mself\u001b[39;49m\u001b[38;5;241;43m.\u001b[39;49m\u001b[43moptions\u001b[49m\u001b[38;5;241;43m.\u001b[39;49m\u001b[43mget\u001b[49m\u001b[43m(\u001b[49m\u001b[38;5;124;43m\"\u001b[39;49m\u001b[38;5;124;43mcompression\u001b[39;49m\u001b[38;5;124;43m\"\u001b[39;49m\u001b[43m,\u001b[49m\u001b[43m \u001b[49m\u001b[38;5;28;43;01mNone\u001b[39;49;00m\u001b[43m)\u001b[49m\u001b[43m,\u001b[49m\n\u001b[1;32m   1222\u001b[0m \u001b[43m    \u001b[49m\u001b[43mmemory_map\u001b[49m\u001b[38;5;241;43m=\u001b[39;49m\u001b[38;5;28;43mself\u001b[39;49m\u001b[38;5;241;43m.\u001b[39;49m\u001b[43moptions\u001b[49m\u001b[38;5;241;43m.\u001b[39;49m\u001b[43mget\u001b[49m\u001b[43m(\u001b[49m\u001b[38;5;124;43m\"\u001b[39;49m\u001b[38;5;124;43mmemory_map\u001b[39;49m\u001b[38;5;124;43m\"\u001b[39;49m\u001b[43m,\u001b[49m\u001b[43m \u001b[49m\u001b[38;5;28;43;01mFalse\u001b[39;49;00m\u001b[43m)\u001b[49m\u001b[43m,\u001b[49m\n\u001b[1;32m   1223\u001b[0m \u001b[43m    \u001b[49m\u001b[43mis_text\u001b[49m\u001b[38;5;241;43m=\u001b[39;49m\u001b[43mis_text\u001b[49m\u001b[43m,\u001b[49m\n\u001b[1;32m   1224\u001b[0m \u001b[43m    \u001b[49m\u001b[43merrors\u001b[49m\u001b[38;5;241;43m=\u001b[39;49m\u001b[38;5;28;43mself\u001b[39;49m\u001b[38;5;241;43m.\u001b[39;49m\u001b[43moptions\u001b[49m\u001b[38;5;241;43m.\u001b[39;49m\u001b[43mget\u001b[49m\u001b[43m(\u001b[49m\u001b[38;5;124;43m\"\u001b[39;49m\u001b[38;5;124;43mencoding_errors\u001b[39;49m\u001b[38;5;124;43m\"\u001b[39;49m\u001b[43m,\u001b[49m\u001b[43m \u001b[49m\u001b[38;5;124;43m\"\u001b[39;49m\u001b[38;5;124;43mstrict\u001b[39;49m\u001b[38;5;124;43m\"\u001b[39;49m\u001b[43m)\u001b[49m\u001b[43m,\u001b[49m\n\u001b[1;32m   1225\u001b[0m \u001b[43m    \u001b[49m\u001b[43mstorage_options\u001b[49m\u001b[38;5;241;43m=\u001b[39;49m\u001b[38;5;28;43mself\u001b[39;49m\u001b[38;5;241;43m.\u001b[39;49m\u001b[43moptions\u001b[49m\u001b[38;5;241;43m.\u001b[39;49m\u001b[43mget\u001b[49m\u001b[43m(\u001b[49m\u001b[38;5;124;43m\"\u001b[39;49m\u001b[38;5;124;43mstorage_options\u001b[39;49m\u001b[38;5;124;43m\"\u001b[39;49m\u001b[43m,\u001b[49m\u001b[43m \u001b[49m\u001b[38;5;28;43;01mNone\u001b[39;49;00m\u001b[43m)\u001b[49m\u001b[43m,\u001b[49m\n\u001b[1;32m   1226\u001b[0m \u001b[43m\u001b[49m\u001b[43m)\u001b[49m\n\u001b[1;32m   1227\u001b[0m \u001b[38;5;28;01massert\u001b[39;00m \u001b[38;5;28mself\u001b[39m\u001b[38;5;241m.\u001b[39mhandles \u001b[38;5;129;01mis\u001b[39;00m \u001b[38;5;129;01mnot\u001b[39;00m \u001b[38;5;28;01mNone\u001b[39;00m\n\u001b[1;32m   1228\u001b[0m f \u001b[38;5;241m=\u001b[39m \u001b[38;5;28mself\u001b[39m\u001b[38;5;241m.\u001b[39mhandles\u001b[38;5;241m.\u001b[39mhandle\n",
      "File \u001b[0;32m/opt/anaconda3/envs/DA_Env/lib/python3.9/site-packages/pandas/io/common.py:789\u001b[0m, in \u001b[0;36mget_handle\u001b[0;34m(path_or_buf, mode, encoding, compression, memory_map, is_text, errors, storage_options)\u001b[0m\n\u001b[1;32m    784\u001b[0m \u001b[38;5;28;01melif\u001b[39;00m \u001b[38;5;28misinstance\u001b[39m(handle, \u001b[38;5;28mstr\u001b[39m):\n\u001b[1;32m    785\u001b[0m     \u001b[38;5;66;03m# Check whether the filename is to be opened in binary mode.\u001b[39;00m\n\u001b[1;32m    786\u001b[0m     \u001b[38;5;66;03m# Binary mode does not support 'encoding' and 'newline'.\u001b[39;00m\n\u001b[1;32m    787\u001b[0m     \u001b[38;5;28;01mif\u001b[39;00m ioargs\u001b[38;5;241m.\u001b[39mencoding \u001b[38;5;129;01mand\u001b[39;00m \u001b[38;5;124m\"\u001b[39m\u001b[38;5;124mb\u001b[39m\u001b[38;5;124m\"\u001b[39m \u001b[38;5;129;01mnot\u001b[39;00m \u001b[38;5;129;01min\u001b[39;00m ioargs\u001b[38;5;241m.\u001b[39mmode:\n\u001b[1;32m    788\u001b[0m         \u001b[38;5;66;03m# Encoding\u001b[39;00m\n\u001b[0;32m--> 789\u001b[0m         handle \u001b[38;5;241m=\u001b[39m \u001b[38;5;28;43mopen\u001b[39;49m\u001b[43m(\u001b[49m\n\u001b[1;32m    790\u001b[0m \u001b[43m            \u001b[49m\u001b[43mhandle\u001b[49m\u001b[43m,\u001b[49m\n\u001b[1;32m    791\u001b[0m \u001b[43m            \u001b[49m\u001b[43mioargs\u001b[49m\u001b[38;5;241;43m.\u001b[39;49m\u001b[43mmode\u001b[49m\u001b[43m,\u001b[49m\n\u001b[1;32m    792\u001b[0m \u001b[43m            \u001b[49m\u001b[43mencoding\u001b[49m\u001b[38;5;241;43m=\u001b[39;49m\u001b[43mioargs\u001b[49m\u001b[38;5;241;43m.\u001b[39;49m\u001b[43mencoding\u001b[49m\u001b[43m,\u001b[49m\n\u001b[1;32m    793\u001b[0m \u001b[43m            \u001b[49m\u001b[43merrors\u001b[49m\u001b[38;5;241;43m=\u001b[39;49m\u001b[43merrors\u001b[49m\u001b[43m,\u001b[49m\n\u001b[1;32m    794\u001b[0m \u001b[43m            \u001b[49m\u001b[43mnewline\u001b[49m\u001b[38;5;241;43m=\u001b[39;49m\u001b[38;5;124;43m\"\u001b[39;49m\u001b[38;5;124;43m\"\u001b[39;49m\u001b[43m,\u001b[49m\n\u001b[1;32m    795\u001b[0m \u001b[43m        \u001b[49m\u001b[43m)\u001b[49m\n\u001b[1;32m    796\u001b[0m     \u001b[38;5;28;01melse\u001b[39;00m:\n\u001b[1;32m    797\u001b[0m         \u001b[38;5;66;03m# Binary mode\u001b[39;00m\n\u001b[1;32m    798\u001b[0m         handle \u001b[38;5;241m=\u001b[39m \u001b[38;5;28mopen\u001b[39m(handle, ioargs\u001b[38;5;241m.\u001b[39mmode)\n",
      "\u001b[0;31mFileNotFoundError\u001b[0m: [Errno 2] No such file or directory: 'Data/file3.csv'"
     ]
    }
   ],
   "source": [
    "# before aggregating data into one Data Frame, modify first the file3 since it is the different one comparing with file 2 and file 1.\n",
    "\n",
    "file3=pd.read_csv('Data/file3.csv')\n",
    "file3"
   ]
  },
  {
   "cell_type": "code",
   "execution_count": null,
   "id": "c46b7d80-0b47-4991-be10-1fc19683569b",
   "metadata": {},
   "outputs": [],
   "source": [
    "#chenge the file3 for having all the same column names\n",
    "\n",
    "file3_df = pd.read_csv('Data/file3.csv')\n",
    "file3_df.rename(columns={'State':'ST', 'Gender':'GENDER'}, inplace=True)\n",
    "file3_df"
   ]
  },
  {
   "cell_type": "code",
   "execution_count": null,
   "id": "92787d18-7a4e-4376-963c-3c1952e4fc6e",
   "metadata": {},
   "outputs": [],
   "source": [
    "# Concatenate data into one Data Frame using Pandas.\n",
    "\n",
    "\n",
    "def load_original_data():\n",
    "    file1 = pd.read_csv('Data/file1.csv')\n",
    "    file2 = pd.read_csv('Data/file2.csv')\n",
    "    file3 = file3_df\n",
    "    return pd.concat([file1,file2,file3], axis=0)\n",
    "all_data = load_original_data()\n",
    "all_data"
   ]
  },
  {
   "cell_type": "code",
   "execution_count": null,
   "id": "20194161-feee-4dc5-bb91-cb5d1dd7c49d",
   "metadata": {},
   "outputs": [],
   "source": [
    "# Standardizing header names\n",
    "\n",
    "all_data.rename(columns={'ST':'State', 'GENDER':'Gender'}, inplace=True)\n",
    "all_data"
   ]
  },
  {
   "cell_type": "code",
   "execution_count": null,
   "id": "f53810d1-b09e-4e96-8ccd-754eaa0f4c52",
   "metadata": {},
   "outputs": [],
   "source": [
    "# Deleting and rearranging columns – delete the column customer as it is only a unique identifier for each row of data\n",
    "\n",
    "all_data.drop(columns=['Customer'], inplace=True)\n",
    "all_data"
   ]
  },
  {
   "cell_type": "markdown",
   "id": "911d56e7-f87d-40dc-b04e-34a5de99adb6",
   "metadata": {},
   "source": [
    "#### \"Second way for Deleting and rearranging columns – delete the column customer as it is only a unique identifier for each row of data\"\n",
    "\n",
    "def drop_columns(hk_df) :\n",
    "    hk_df.drop(columns=[\"Customer\"], inplace=True)\n",
    "    return hk_df\n",
    "drop_columns(hk_df)"
   ]
  },
  {
   "cell_type": "code",
   "execution_count": null,
   "id": "ae78a721-c0b8-42be-b3d5-1045ec52cfa9",
   "metadata": {},
   "outputs": [],
   "source": [
    "# Working with data types – Check the data types of all the columns and fix the incorrect ones (for ex. customer lifetime value and number of open complaints ). \n",
    "# Hint: remove the percentage from the customer lifetime value and truncate it to an integer value.\n",
    "\n",
    "all_data.info()\n"
   ]
  },
  {
   "cell_type": "code",
   "execution_count": null,
   "id": "839c7e6a-8a70-4f70-a141-5a3f99d8606b",
   "metadata": {},
   "outputs": [],
   "source": [
    "# conversion from object to numerical data using errors=ignore to keep the values with the bar e.g. 1/0/00\n",
    "\n",
    "all_data['Number of Open Complaints'] =  pd.to_numeric(all_data['Number of Open Complaints'], errors ='ignore')\n",
    "all_data"
   ]
  },
  {
   "cell_type": "code",
   "execution_count": null,
   "id": "5da53567-9f69-4e46-b777-1e6df0414927",
   "metadata": {},
   "outputs": [],
   "source": [
    "all_data.dtypes"
   ]
  },
  {
   "cell_type": "code",
   "execution_count": null,
   "id": "fb6d94ce-6565-445e-bf80-f80ea086cdee",
   "metadata": {},
   "outputs": [],
   "source": [
    "# clean the number of open complaints and extract the middle number which is changing between records. \n",
    "# pay attention that the number of open complaints is a categorical feature.\n",
    "\n",
    "all_data['Number of Open Complaints'].unique()"
   ]
  },
  {
   "cell_type": "code",
   "execution_count": null,
   "id": "9e93a913-8512-4aed-b7e4-c5b2eda013ee",
   "metadata": {},
   "outputs": [],
   "source": [
    "all_data.loc[:, 'Number of Open Complaints'][(all_data['Number of Open Complaints'] == '1/0/00')] = 0\n",
    "all_data.loc[:, 'Number of Open Complaints'][(all_data['Number of Open Complaints'] == '1/2/00')] = 2\n",
    "all_data.loc[:, 'Number of Open Complaints'][(all_data['Number of Open Complaints'] == '1/3/00')] = 3\n",
    "all_data.loc[:, 'Number of Open Complaints'][(all_data['Number of Open Complaints'] == '1/5/00')] = 5\n",
    "all_data.loc[:, 'Number of Open Complaints'][(all_data['Number of Open Complaints'] == '1/4/00')] = 4\n",
    "all_data.loc[:, 'Number of Open Complaints'][(all_data['Number of Open Complaints'] == '1/1/00')] = 1\n",
    "all_data['Number of Open Complaints'].unique()"
   ]
  },
  {
   "cell_type": "code",
   "execution_count": null,
   "id": "7aacea4d-e906-49e1-9e2f-d7c3567ef9de",
   "metadata": {},
   "outputs": [],
   "source": [
    "all_data['Number of Open Complaints'] =  pd.to_numeric(all_data['Number of Open Complaints'], errors ='ignore')\n",
    "all_data"
   ]
  },
  {
   "cell_type": "code",
   "execution_count": null,
   "id": "bd506ac7-0033-4aac-9cc0-6884443a3e2d",
   "metadata": {},
   "outputs": [],
   "source": [
    "all_data.info()"
   ]
  },
  {
   "cell_type": "code",
   "execution_count": null,
   "id": "63b73432-37d7-4857-b40b-feb163cc8e85",
   "metadata": {},
   "outputs": [],
   "source": [
    "# Filtering data and Correcting typos – \n",
    "# Filter the data in state and gender column to standardize the texts in those columns\n",
    "\n",
    "all_data['Gender'].unique()"
   ]
  },
  {
   "cell_type": "code",
   "execution_count": null,
   "id": "8cc3a4c6-a47f-49c7-a220-36cdd7e8eeec",
   "metadata": {},
   "outputs": [],
   "source": [
    "all_data.loc[:, 'Gender'][(all_data['Gender'] == 'female')] = \"F\"\n",
    "all_data.loc[:, 'Gender'][(all_data['Gender'] == 'Femal')] = \"F\"\n",
    "all_data.loc[:, 'Gender'][(all_data['Gender'] == 'Male')] = \"M\"\n",
    "\n",
    "\n",
    "all_data['Gender'].unique()"
   ]
  },
  {
   "cell_type": "code",
   "execution_count": null,
   "id": "26e36dc4-e088-466b-8a1e-8855430b28f8",
   "metadata": {},
   "outputs": [],
   "source": [
    "all_data['State'].unique()"
   ]
  },
  {
   "cell_type": "code",
   "execution_count": null,
   "id": "d350ed2e-f1ad-4a73-aa49-e9d55e190f12",
   "metadata": {},
   "outputs": [],
   "source": [
    "all_data.loc[:, 'State'][(all_data['State'] == 'Cali')] = \"California\"\n",
    "all_data.loc[:, 'State'][(all_data['State'] == 'AZ')] = \"Arizona\"\n",
    "all_data.loc[:, 'State'][(all_data['State'] == 'WA')] = \"Washington\"\n",
    "all_data['State'].unique()"
   ]
  },
  {
   "cell_type": "code",
   "execution_count": null,
   "id": "ef82d782-62f7-4d4e-a268-0070d6c798f0",
   "metadata": {},
   "outputs": [],
   "source": [
    "# Removing duplicates\n",
    "\n",
    "all_data = all_data.drop_duplicates()\n",
    "all_data"
   ]
  },
  {
   "cell_type": "code",
   "execution_count": null,
   "id": "431e57e2-430f-4ff7-a8c4-e6c7c053dcd1",
   "metadata": {},
   "outputs": [],
   "source": [
    "##### internal checke of the null values to see if the next function we apply is deleting data\n",
    "\n",
    "all_data['Customer Lifetime Value'].isnull().sum()"
   ]
  },
  {
   "cell_type": "code",
   "execution_count": null,
   "id": "c320ba83-c10f-4aa1-a1e7-42f18fe45196",
   "metadata": {},
   "outputs": [],
   "source": [
    "# remove % from data\n",
    "\n",
    "def convert(x):\n",
    "    if type(x) == str:\n",
    "        return x.rstrip('%')\n",
    "    else:\n",
    "        return x\n",
    "all_data['Customer Lifetime Value']=all_data['Customer Lifetime Value'].apply(convert)\n",
    "    "
   ]
  },
  {
   "cell_type": "code",
   "execution_count": null,
   "id": "a1f4ed51-f857-43de-a118-6f242d2a0c2c",
   "metadata": {},
   "outputs": [],
   "source": [
    "##### internal checke of the null values to see if the function we applied was deleting data\n",
    "\n",
    "all_data['Customer Lifetime Value'].isnull().sum()"
   ]
  },
  {
   "cell_type": "code",
   "execution_count": null,
   "id": "2dab76db-03d0-41d7-bbd0-32129e713047",
   "metadata": {},
   "outputs": [],
   "source": [
    "all_data"
   ]
  },
  {
   "cell_type": "code",
   "execution_count": null,
   "id": "d4546d51-081c-4d01-bc52-51db4909a660",
   "metadata": {},
   "outputs": [],
   "source": [
    "#check if % is removed\n",
    "all_data['Customer Lifetime Value'].str.contains('%')"
   ]
  },
  {
   "cell_type": "code",
   "execution_count": null,
   "id": "fa141000-bb3a-4789-80e7-7640dc75461a",
   "metadata": {},
   "outputs": [],
   "source": []
  },
  {
   "cell_type": "code",
   "execution_count": null,
   "id": "a0f95faf-2149-426b-af6d-300f6b7031ce",
   "metadata": {},
   "outputs": [],
   "source": []
  },
  {
   "cell_type": "code",
   "execution_count": null,
   "id": "4f39056f-eb38-4018-8359-c8c008db785e",
   "metadata": {},
   "outputs": [],
   "source": [
    "#convert to numeric data\n",
    "\n",
    "all_data['Customer Lifetime Value'] =  pd.to_numeric(all_data['Customer Lifetime Value'])\n",
    "all_data"
   ]
  },
  {
   "cell_type": "code",
   "execution_count": null,
   "id": "a6827387-b88f-4acf-96f8-b2b397fbe10b",
   "metadata": {},
   "outputs": [],
   "source": [
    "all_data.info()"
   ]
  },
  {
   "cell_type": "code",
   "execution_count": null,
   "id": "64ca68c1-da49-4a15-8a24-ae4ef8334c7c",
   "metadata": {},
   "outputs": [],
   "source": [
    "all_data.dtypes"
   ]
  },
  {
   "cell_type": "code",
   "execution_count": null,
   "id": "7d5c0a38-0561-48bb-8bde-6397cb980091",
   "metadata": {},
   "outputs": [],
   "source": [
    "# Replacing null values – Replace missing values with means of the column (for numerical columns)\n",
    "\n",
    "all_data['Customer Lifetime Value'].isnull().sum()"
   ]
  },
  {
   "cell_type": "code",
   "execution_count": null,
   "id": "c5742b2b-149f-4643-bfae-b7c1a91d5777",
   "metadata": {},
   "outputs": [],
   "source": [
    "all_data['Number of Open Complaints'].isnull().sum()\n"
   ]
  },
  {
   "cell_type": "code",
   "execution_count": null,
   "id": "1bdd6ceb-ce51-48d5-8ad5-ff5b4cfc1c29",
   "metadata": {},
   "outputs": [],
   "source": [
    "\n",
    "all_data['Number of Open Complaints'].fillna((all_data['Number of Open Complaints'].mean()), inplace=True)\n",
    "all_data['Number of Open Complaints'].isnull().sum()"
   ]
  },
  {
   "cell_type": "code",
   "execution_count": null,
   "id": "b5344788-114d-47a8-886d-d7621f2073b0",
   "metadata": {},
   "outputs": [],
   "source": [
    "all_data['Customer Lifetime Value'].fillna((all_data['Customer Lifetime Value'].mean()), inplace=True)\n",
    "all_data['Customer Lifetime Value'].isnull().sum()"
   ]
  },
  {
   "cell_type": "code",
   "execution_count": null,
   "id": "12281391-836e-4aea-a8bc-534b1c02a016",
   "metadata": {},
   "outputs": [],
   "source": [
    "all_data.isna().sum()"
   ]
  },
  {
   "cell_type": "code",
   "execution_count": null,
   "id": "d52193f2-b998-4b9c-b2df-f6329c426cde",
   "metadata": {},
   "outputs": [],
   "source": [
    "# select all rows with NaN under an entire DataFrame:\n",
    "\n",
    "# pd.set_option('display.max_rows', None)  ---> to see all rows\n",
    "\n",
    "all_data[all_data.isna().any(axis=1)]"
   ]
  },
  {
   "cell_type": "code",
   "execution_count": null,
   "id": "3867084c-e1f1-4bab-8ef8-c7c31636878b",
   "metadata": {},
   "outputs": [],
   "source": [
    "all_data['Income'].fillna((all_data['Income'].mean()), inplace=True)\n",
    "all_data['Monthly Premium Auto'].fillna((all_data['Monthly Premium Auto'].mean()), inplace=True)\n",
    "all_data['Total Claim Amount'].fillna((all_data['Total Claim Amount'].mean()), inplace=True)\n",
    "all_data"
   ]
  },
  {
   "cell_type": "code",
   "execution_count": null,
   "id": "8606bb97-31d4-4903-b107-4a8198600439",
   "metadata": {},
   "outputs": [],
   "source": [
    "all_data.isna().sum()"
   ]
  },
  {
   "cell_type": "markdown",
   "id": "13a1ebdb-3529-4b1e-9f18-584d593bb279",
   "metadata": {
    "tags": []
   },
   "source": [
    "# $\\color{purple}{\\text{Activity 2}}$"
   ]
  },
  {
   "cell_type": "code",
   "execution_count": null,
   "id": "1d9227c3-4e58-4ca9-bad7-d55cf83d161d",
   "metadata": {},
   "outputs": [],
   "source": [
    "all_data['State'].unique()"
   ]
  },
  {
   "cell_type": "code",
   "execution_count": null,
   "id": "7e1d539d-d84a-48ea-aa47-3f505f687100",
   "metadata": {},
   "outputs": [],
   "source": [
    "# Bucketing the data - Write a function to replace column \"State\" to different zones.\n",
    "# California as West Region, Oregon as North West, and Washington as East, and Arizona and Nevada as Central\n",
    "\n",
    "\n",
    "all_data.loc[:, 'State'][(all_data['State'] == 'California')] = 'West'\n",
    "all_data.loc[:, 'State'][(all_data['State'] == 'Oregon')] = 'North West'\n",
    "all_data.loc[:, 'State'][(all_data['State'] == 'Washington')] = 'East'\n",
    "all_data.loc[:, 'State'][(all_data['State'] == 'Arizona')] = 'Central'\n",
    "all_data.loc[:, 'State'][(all_data['State'] == 'Nevada')] = 'Central'\n",
    "\n",
    "all_data['State'].unique()"
   ]
  },
  {
   "cell_type": "markdown",
   "id": "61bd3f6d-17ce-4e7d-9d53-5533c21be0a6",
   "metadata": {},
   "source": [
    "def lower_case()\n",
    "    all_data=[i.lower() for i all_data.columns]\n",
    "    return "
   ]
  },
  {
   "cell_type": "code",
   "execution_count": null,
   "id": "5052332b-6914-4fcc-bcc3-68d8ca1b24f8",
   "metadata": {},
   "outputs": [],
   "source": [
    "# Standardizing the data – Use string functions to standardize the text data (lower case)\n",
    "\n",
    "# in lower case the column's title\n",
    "all_data.columns = all_data.columns.str.lower()\n",
    "all_data"
   ]
  },
  {
   "cell_type": "code",
   "execution_count": null,
   "id": "9b793238-7863-4507-85ea-b3726eb55187",
   "metadata": {},
   "outputs": [],
   "source": [
    "# lower case all the data\n",
    "\n",
    "all_data['state'] = all_data['state'].str.lower()\n",
    "all_data['gender'] = all_data['gender'].str.lower()\n",
    "all_data['education'] = all_data['education'].str.lower()\n",
    "all_data['policy type'] = all_data['policy type'].str.lower()\n",
    "all_data['vehicle class'] = all_data['vehicle class'].str.lower()\n",
    "all_data"
   ]
  },
  {
   "cell_type": "markdown",
   "id": "cd97fada-7056-45ba-95ee-318895f9121e",
   "metadata": {},
   "source": [
    "# $\\color{#FF1493}{\\text{Activity 3}}$"
   ]
  },
  {
   "cell_type": "code",
   "execution_count": null,
   "id": "acffc999-feec-4eb4-8a26-228d2f288f72",
   "metadata": {},
   "outputs": [],
   "source": [
    "# Which columns are numerical?\n",
    "\n",
    "all_data._get_numeric_data()\n"
   ]
  },
  {
   "cell_type": "code",
   "execution_count": null,
   "id": "7d72ab36-93f0-48a8-a266-2403e0221311",
   "metadata": {},
   "outputs": [],
   "source": [
    "all_data.select_dtypes('number')"
   ]
  },
  {
   "cell_type": "code",
   "execution_count": null,
   "id": "d7779665-3a2f-48c9-8712-06ecd7d4694c",
   "metadata": {},
   "outputs": [],
   "source": [
    "# Which columns are categorical?\n",
    "\n",
    "all_data.select_dtypes('object')"
   ]
  },
  {
   "cell_type": "markdown",
   "id": "f3e48595-fec5-48b8-93e0-19548774bb85",
   "metadata": {},
   "source": [
    "# $\\color{#CD1076}{\\text{Activity 4}}$"
   ]
  },
  {
   "cell_type": "code",
   "execution_count": null,
   "id": "14b66d27-3778-4e0c-a807-dea29925dd24",
   "metadata": {},
   "outputs": [],
   "source": [
    "## day3: loading the clean file from Nelson\n",
    "\n",
    "\n",
    "\n",
    "file4=pd.read_csv('Data/Data_Marketing_Customer_Analysis_Round3.csv')\n",
    "file4\n"
   ]
  },
  {
   "cell_type": "code",
   "execution_count": null,
   "id": "026f236d-3c88-4869-8af9-1f5b1654e49f",
   "metadata": {},
   "outputs": [],
   "source": [
    "# Get the numeric data into dataframe called `numerical` and categorical columns in a dataframe called `categoricals`.\n",
    "# You can use np.number and np.object to select the numerical data types and categorical data types respectively\n",
    "\n",
    "\n",
    "numerical = file4._get_numeric_data()\n",
    "numerical"
   ]
  },
  {
   "cell_type": "code",
   "execution_count": null,
   "id": "2fec12e6-a059-48f2-be98-17b621992720",
   "metadata": {},
   "outputs": [],
   "source": [
    "categorical = file4.select_dtypes('object')\n",
    "categorical"
   ]
  },
  {
   "cell_type": "code",
   "execution_count": null,
   "id": "4f767069-08af-4def-a7bb-959272ab0c1f",
   "metadata": {},
   "outputs": [],
   "source": [
    "# Use seaborn library to construct distribution plots for the numerical variables.\n",
    "\n",
    "## we noted that by using displot we cannot get all the histographs in the same canvas, \n",
    "## so we swicthed to histoplot (shown below).\n",
    "\n",
    "sns.displot((numerical['customer_lifetime_value']), bins=100)\n",
    "sns.displot((numerical['income']), bins=100)\n",
    "sns.displot((numerical['monthly_premium_auto']), bins=100)"
   ]
  },
  {
   "cell_type": "code",
   "execution_count": null,
   "id": "89b0bfb8-5deb-4a0f-baa7-41881afb2cf6",
   "metadata": {},
   "outputs": [],
   "source": [
    "#  Now we will try to check the normality of the numerical variables visually\n",
    "# Use seaborn library to construct distribution plots for the numerical variables\n",
    "\n",
    "sns.hisplot((numerical['monthly_premium_auto']), bins=100)"
   ]
  },
  {
   "cell_type": "code",
   "execution_count": null,
   "id": "2c9b2526-755b-418b-ae69-af0fedeb3dcb",
   "metadata": {},
   "outputs": [],
   "source": [
    "plt.suptitle('seaborn all')\n",
    "\n",
    "#displot did not work as subplots so we used histplots\n",
    "\n",
    "fig, ax = plt.subplots(4,2,figsize = (15,15))\n",
    "sns.histplot((numerical['customer_lifetime_value']), color=\"red\", bins=50, ax=ax[0,0])\n",
    "sns.histplot((numerical['income']), color=\"blue\", bins=50,ax=ax[0,1])\n",
    "sns.histplot((numerical['monthly_premium_auto']), color=\"violet\", bins=50,ax=ax[1,0])\n",
    "sns.histplot((numerical['months_since_last_claim']), color=\"yellow\", bins=50,ax=ax[1,1])\n",
    "sns.histplot((numerical['months_since_policy_inception']), color=\"green\", bins=50,ax=ax[2,0])\n",
    "sns.histplot((numerical['number_of_open_complaints']), color=\"pink\", bins=50,ax=ax[2,1])\n",
    "sns.histplot((numerical['total_claim_amount']), color=\"brown\", bins=50,ax=ax[3,0])\n",
    "sns.histplot((numerical['number_of_policies']), color=\"orange\", bins=50,ax=ax[3,1])\n",
    "\n",
    "\n"
   ]
  },
  {
   "cell_type": "code",
   "execution_count": null,
   "id": "c3453f5c-11db-43cd-8df9-5d3c5f9712ca",
   "metadata": {},
   "outputs": [],
   "source": [
    "# for creativity \n",
    "\n",
    "sns.pairplot(numerical)\n"
   ]
  },
  {
   "cell_type": "code",
   "execution_count": null,
   "id": "602f15df-9823-4256-96df-57c1fd8a80ee",
   "metadata": {},
   "outputs": [],
   "source": [
    "# Use Matplotlib to construct histograms\n",
    "\n",
    "nice_graph.hist(figsize=(10,15), bins=20)\n",
    "\n",
    "# remove the \"Unnamed: 0\" histogram\n",
    "\n",
    "nice_graph = numerical.drop(['Unnamed: 0'], axis = 1)"
   ]
  },
  {
   "cell_type": "code",
   "execution_count": null,
   "id": "55dbdedd-3c46-4ce1-8222-4609fe043562",
   "metadata": {},
   "outputs": [],
   "source": [
    "# Do the distributions for different numerical variables look like a normal distribution?.\n",
    "\n",
    "# there is not Normal Distribution"
   ]
  },
  {
   "cell_type": "code",
   "execution_count": null,
   "id": "4515e519-1293-4808-a66e-0cea5c8d1cbe",
   "metadata": {},
   "outputs": [],
   "source": [
    "# For the numerical variables, check the multicollinearity between the features. \n",
    "# Please note that we will use the column `total_claim_amount` later as the target variable.\n",
    "\n",
    "numerical.corr()"
   ]
  },
  {
   "cell_type": "code",
   "execution_count": null,
   "id": "8e96e0e8-8fbf-49ed-8cce-5688aeb2ed63",
   "metadata": {},
   "outputs": [],
   "source": [
    "# Drop one of the two features that show a high correlation between them (greater than 0.9). \n",
    "# If there is no pair of features that have a high correlation, then do not drop any features.\n",
    "\n",
    "numerical.corr() > 0.9 \n",
    "\n",
    "# there is no pair of features that have a high correlation"
   ]
  },
  {
   "cell_type": "markdown",
   "id": "17cd0132-7105-475e-9ae3-984f26d0268c",
   "metadata": {},
   "source": [
    "# $\\color{violet}{\\text{Activity 5}}$"
   ]
  },
  {
   "cell_type": "code",
   "execution_count": null,
   "id": "17048070-3e28-4862-8cc5-9c3dc02674ff",
   "metadata": {},
   "outputs": [],
   "source": [
    "# Show a plot of the total number of responses.\n",
    "\n",
    "responses = file4.value_counts(categorical[\"response\"])\n",
    "responses"
   ]
  },
  {
   "cell_type": "code",
   "execution_count": null,
   "id": "0d2ecb91-fe8d-4fa6-9506-af449c721194",
   "metadata": {},
   "outputs": [],
   "source": [
    "# Show a plot of the total number of responses (second way).\n",
    "\n",
    "responses = categorical[\"response\"].value_counts()\n",
    "responses"
   ]
  },
  {
   "cell_type": "code",
   "execution_count": null,
   "id": "b8e0c0a7-03e5-4182-99a3-3164e554d042",
   "metadata": {},
   "outputs": [],
   "source": [
    "\n",
    "figresp, ax3 = plt.subplots(figsize = (3,3))\n",
    "\n",
    "ax3.set_title('Responses', fontweight='bold')\n",
    "\n",
    "ax3.bar(responses.index, responses, color=('red', 'green'))\n",
    "\n",
    "\n",
    "ax3.legend(['no'])\n"
   ]
  },
  {
   "cell_type": "code",
   "execution_count": null,
   "id": "a6e7592b-cd87-4d52-990c-c6311691fd02",
   "metadata": {},
   "outputs": [],
   "source": [
    "ax3.plot(\"red\", label=\"no\")\n",
    "ax3.plot(\"green\", label=\"yes\")"
   ]
  },
  {
   "cell_type": "code",
   "execution_count": null,
   "id": "7058ebcb-87df-4051-8063-fac26c7cf47b",
   "metadata": {},
   "outputs": [],
   "source": [
    "# Show a plot of the response rate by the sales channel.\n",
    "\n",
    "sale_chanel = categorical[\"sales_channel\"].value_counts()\n",
    "sale_chanel"
   ]
  },
  {
   "cell_type": "code",
   "execution_count": null,
   "id": "59dc9a7c-fea3-462a-ac95-173e5160eee4",
   "metadata": {},
   "outputs": [],
   "source": [
    "##checking first the sales channels\n",
    "\n",
    "figsale, ax5 = plt.subplots(figsize = (3,3))\n",
    "\n",
    "ax5.set_title('sales_channel', fontweight='bold')\n",
    "\n",
    "ax5.bar(sale_chanel.index, sale_chanel, color=('brown','red', 'orange', 'yellow'))"
   ]
  },
  {
   "cell_type": "code",
   "execution_count": null,
   "id": "279c6b9f-8ac3-4e76-ada6-38819d5ee4c7",
   "metadata": {},
   "outputs": [],
   "source": [
    "hue = categorical['sales_channel']\n",
    "\n",
    "resp_sale = categorical[\"response\"].value_counts()\n",
    "resp_sale"
   ]
  },
  {
   "cell_type": "code",
   "execution_count": null,
   "id": "38a9d0b9-fae4-4448-93ee-4c9c1d6f7b9c",
   "metadata": {},
   "outputs": [],
   "source": [
    "channel_responses = categorical.groupby(['response','sales_channel'])['month'].count().reset_index()\n",
    "channel_responses"
   ]
  },
  {
   "cell_type": "code",
   "execution_count": null,
   "id": "d285c2aa-e246-460b-b64d-463577b76955",
   "metadata": {},
   "outputs": [],
   "source": [
    "# response rate by the sales channel"
   ]
  },
  {
   "cell_type": "code",
   "execution_count": null,
   "id": "722dfa29-88c5-4418-9896-63dddfef09be",
   "metadata": {},
   "outputs": [],
   "source": [
    "sns.countplot(x='sales_channel', hue='response', data=categorical)"
   ]
  },
  {
   "cell_type": "code",
   "execution_count": null,
   "id": "027b0ebb-a6b7-4b1c-b2bf-4a44184d2214",
   "metadata": {},
   "outputs": [],
   "source": [
    "total_claim_amount2 = pd.cut(numerical['total_claim_amount'], bins=5)"
   ]
  },
  {
   "cell_type": "code",
   "execution_count": null,
   "id": "628686e3-937f-40eb-8cf2-925476a3a799",
   "metadata": {},
   "outputs": [],
   "source": [
    "# Show a plot of the response rate by the total claim amount.\n",
    "\n",
    "\n",
    "sns.countplot(total_claim_amount2, hue=categorical['response'])\n",
    "sns.set(rc={'figure.figsize':(20,20)})\n"
   ]
  },
  {
   "cell_type": "code",
   "execution_count": null,
   "id": "4d93f74a-7013-4475-b09b-92a45edda2a9",
   "metadata": {},
   "outputs": [],
   "source": [
    "# Show a plot of the income by the total claim amount.\n",
    "\n",
    "income2 = pd.cut(numerical['income'], bins=5)\n",
    "\n",
    "sns.countplot(income2, hue=categorical['response'])\n",
    "sns.set(rc={'figure.figsize':(20,20)})\n"
   ]
  },
  {
   "cell_type": "code",
   "execution_count": null,
   "id": "9c61b991-0567-4e89-b026-219e5e9f3022",
   "metadata": {},
   "outputs": [],
   "source": []
  },
  {
   "cell_type": "code",
   "execution_count": null,
   "id": "85b52fb0-7525-4a43-ad7a-b3f03e2f6dcf",
   "metadata": {},
   "outputs": [],
   "source": []
  },
  {
   "cell_type": "code",
   "execution_count": null,
   "id": "54e20e19-24ca-418a-a861-61da17b2288a",
   "metadata": {},
   "outputs": [],
   "source": [
    "# Don't limit your creativity!  :))) never\n",
    "\n",
    "# plot any interesting findings/insights that describe some interesting facts about your data set and its variables.\n"
   ]
  },
  {
   "cell_type": "code",
   "execution_count": null,
   "id": "dcb50170-4a19-4502-892d-a099c8e1a68f",
   "metadata": {},
   "outputs": [],
   "source": [
    "# Plot the Correlation Heatmap.\n",
    "\n",
    "corr = file4.corr()\n",
    "mask = np.zeros_like(corr)\n",
    "mask[np.triu_indices_from(mask)] = True\n",
    "with sns.axes_style(\"white\"):\n",
    "    f, ax = plt.subplots(figsize=(9, 7))\n",
    "    ax = sns.heatmap(corr, mask=mask,cmap='coolwarm', vmin=-1,vmax=1,annot=True, square=True)"
   ]
  },
  {
   "cell_type": "code",
   "execution_count": null,
   "id": "df22b08b-2f39-41e4-ae91-be65897dfb3e",
   "metadata": {},
   "outputs": [],
   "source": []
  },
  {
   "cell_type": "code",
   "execution_count": null,
   "id": "bc53b938-2df6-467c-b590-70a3b42cbb4f",
   "metadata": {},
   "outputs": [],
   "source": []
  }
 ],
 "metadata": {
  "kernelspec": {
   "display_name": "Python 3 (ipykernel)",
   "language": "python",
   "name": "python3"
  },
  "language_info": {
   "codemirror_mode": {
    "name": "ipython",
    "version": 3
   },
   "file_extension": ".py",
   "mimetype": "text/x-python",
   "name": "python",
   "nbconvert_exporter": "python",
   "pygments_lexer": "ipython3",
   "version": "3.9.7"
  }
 },
 "nbformat": 4,
 "nbformat_minor": 5
}
