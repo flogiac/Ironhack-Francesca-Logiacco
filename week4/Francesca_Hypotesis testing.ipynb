{
 "cells": [
  {
   "cell_type": "markdown",
   "id": "f4411911-405f-4143-96cb-3208b2c1705b",
   "metadata": {},
   "source": [
    "# Lab | Hypothesis Testing\n",
    "#### Instructions\n",
    "\n",
    "\n",
    "It is assumed that the mean systolic blood pressure is μ = 120 mm Hg. In the Honolulu Heart Study, a sample of n = 100 people had an average systolic blood pressure of 130.1 mm Hg with a standard deviation of 21.21 mm Hg. Is the group significantly different (with respect to systolic blood pressure!) from the regular population?\n",
    "\n",
    "Set up the hypothesis test.\n",
    "Write down all the steps followed for setting up the test.\n",
    "Calculate the test statistic by hand and also code it in Python. It should be 4.76190. What decision can you make based on this calculated value?"
   ]
  },
  {
   "cell_type": "code",
   "execution_count": null,
   "id": "716cd448-d3c7-4ca7-b447-9a0df87ff677",
   "metadata": {},
   "outputs": [],
   "source": []
  },
  {
   "cell_type": "markdown",
   "id": "5800efdf-5278-4303-aa4c-c2f7ad93b53c",
   "metadata": {},
   "source": [
    "## Excercise"
   ]
  },
  {
   "cell_type": "markdown",
   "id": "8f9f164d-23c4-4c0e-bd4e-320b06e635b4",
   "metadata": {},
   "source": [
    "the number of samples is more than 30 samples but we don't have the standard deviation of the population, so we cannot do the z-test and we do the t-test."
   ]
  },
  {
   "cell_type": "markdown",
   "id": "a0da88c6-be8b-44f1-91dd-afb91f2367b3",
   "metadata": {},
   "source": [
    "### null hypotesis\n",
    "\n",
    "H0: the people are not different and have blood pressure is μ = 120 mm Hg\n",
    "\n",
    "H1: the people are different and have blood pressure is μ != 120 mm Hg"
   ]
  },
  {
   "cell_type": "markdown",
   "id": "5565ec89-ea51-4f3a-9ed4-cb42ebd9bd06",
   "metadata": {},
   "source": [
    "the T value for the t-student distribution is:\n",
    "\n",
    "t = (mean(samples)-mean(population))  /  (standard deviation/root(population)"
   ]
  },
  {
   "cell_type": "markdown",
   "id": "663f7e2b-babc-4a8b-bb53-2b00562ebf42",
   "metadata": {},
   "source": [
    "t = 130.1 - 120 / 21.21(root(100) = 0.0476   -> 4.76 %"
   ]
  },
  {
   "cell_type": "markdown",
   "id": "383e3e6a-d4d5-4950-97cf-af9962ab1f83",
   "metadata": {},
   "source": [
    "we need to do the 2-tails test analysis because we need to check if the group is significantly less or more.\n",
    "\n",
    "\n",
    "-- check the table to get the critical value of the gaussian distribution: \n",
    "\n",
    "----- Degrees of Freedom (df): 99\n",
    "because we have 100 as population and we do 100 -1 = 99\n",
    "\n",
    "----- Then we count 95% as the considered gaussian area and since we have a 2-tails distribution we divide by 2 (2 rejected areas at the gaussian tails) and we will have then the rest 5% divided in 2, having 2.5% --> 0.025 % (probability of exceeding the critical value).\n",
    "You check thn in the table the critical value for t-test with 0.025% and 99 degrees of freedom.\n",
    "\n",
    "\n",
    "\n",
    "----- the critical value is (tc): 1.984 "
   ]
  },
  {
   "cell_type": "code",
   "execution_count": 13,
   "id": "dcbdc3b4-c6ef-4120-81c4-5c78bbe15560",
   "metadata": {},
   "outputs": [],
   "source": [
    "import numpy as np\n",
    "import pandas as pd\n",
    "import scipy.stats as stats\n",
    "import matplotlib.pyplot as plt\n",
    "import seaborn as sns\n",
    "\n",
    "%matplotlib inline"
   ]
  },
  {
   "cell_type": "code",
   "execution_count": 14,
   "id": "1aa1bf16-3780-484c-b99f-0393b8f2cbd8",
   "metadata": {},
   "outputs": [
    {
     "name": "stdout",
     "output_type": "stream",
     "text": [
      "Our t score is: 4.76\n"
     ]
    }
   ],
   "source": [
    "n = 100 # \n",
    "\n",
    "sample_mean = 130.1\n",
    "pop_mean = 120\n",
    "sample_std_dev = 21.21\n",
    "\n",
    "z = ( sample_mean - pop_mean ) / ( sample_std_dev / np.sqrt(100) )\n",
    "print(\"Our t score is: {:.2f}\".format(z))"
   ]
  },
  {
   "cell_type": "markdown",
   "id": "38655c81-a0c6-4582-bb83-41f63e67e0f8",
   "metadata": {},
   "source": [
    "Let's set the confidence level to 95% = 0.95"
   ]
  },
  {
   "cell_type": "code",
   "execution_count": 24,
   "id": "427ed8f2-705b-44f5-8113-3975760c2eaa",
   "metadata": {},
   "outputs": [
    {
     "data": {
      "text/plain": [
       "-1.9842169515086827"
      ]
     },
     "execution_count": 24,
     "metadata": {},
     "output_type": "execute_result"
    }
   ],
   "source": [
    "# ONE SAMPLE, ONE TAILED TEST\n",
    "\n",
    "tc = +-stats.t.ppf(0.975, 99)\n",
    "tc\n",
    "\n",
    "## you write only stats because you defined before scipy.stats as stats during the import\n",
    "## +- before stats because you considered 2 tails and 2 conditions.\n",
    "## 0.975: The significance level to use (95% + 2.5% of one gaussian tail)\n",
    "## 99: The degrees of freedom"
   ]
  },
  {
   "cell_type": "code",
   "execution_count": null,
   "id": "3089ca84-d9ab-4d30-a53e-e55115528dc4",
   "metadata": {},
   "outputs": [],
   "source": []
  },
  {
   "cell_type": "code",
   "execution_count": null,
   "id": "2ecd1fd0-e0f1-45ed-bcbe-4736af9e54bf",
   "metadata": {},
   "outputs": [],
   "source": []
  }
 ],
 "metadata": {
  "kernelspec": {
   "display_name": "Python 3 (ipykernel)",
   "language": "python",
   "name": "python3"
  },
  "language_info": {
   "codemirror_mode": {
    "name": "ipython",
    "version": 3
   },
   "file_extension": ".py",
   "mimetype": "text/x-python",
   "name": "python",
   "nbconvert_exporter": "python",
   "pygments_lexer": "ipython3",
   "version": "3.9.7"
  }
 },
 "nbformat": 4,
 "nbformat_minor": 5
}
