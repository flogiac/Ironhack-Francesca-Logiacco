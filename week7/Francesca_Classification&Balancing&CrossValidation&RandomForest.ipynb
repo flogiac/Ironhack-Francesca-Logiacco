{
 "cells": [
  {
   "cell_type": "markdown",
   "id": "bb57c9d9-f86a-4235-b9e5-764e1c5ea8d0",
   "metadata": {},
   "source": [
    "## Lab | Classification, Handling Imbalanced Data\n",
    "\n",
    "For this lab we will build a model on customer churn binary classification problem. You will be using Data/DATA_Customer-Churn.csv file.\n",
    "\n",
    "#### Scenario\n",
    "You are working as an analyst with this internet service provider. You are provided with this historical data about your company's customers and their churn trends. Your task is to build a machine learning model that will help the company identify customers that are more likely to default/churn and thus prevent losses from such customers.\n",
    "\n",
    "#### Instructions\n",
    "In this lab, we will first take a look at the degree of imbalance in the data and correct it using the techniques we learned on the class.\n",
    "\n",
    "Here is the list of steps to be followed (building a simple model without balancing the data):\n",
    "\n",
    "- Import the required libraries and modules that you would need.\n",
    "- Read that data into Python and call the dataframe churnData.\n",
    "- Check the datatypes of all the columns in the data. You would see that the column TotalCharges is object type. Convert this column into numeric type using pd.to_numeric function.\n",
    "- Check for null values in the dataframe. Replace the null values.\n",
    "- Use the following features: tenure, SeniorCitizen, MonthlyCharges and TotalCharges:\n",
    "-- Scale the features either by using normalizer or a standard scaler.\n",
    "-- Split the data into a training set and a test set.\n",
    "-- Fit a logistic Regression model on the training data.\n",
    "-- Fit a Knn Classifier model on the training data"
   ]
  },
  {
   "cell_type": "markdown",
   "id": "a827eb29-37c3-4dca-b5e5-883bcb0a4491",
   "metadata": {},
   "source": [
    "### Import Lybraries"
   ]
  },
  {
   "cell_type": "code",
   "execution_count": 249,
   "id": "5b3687ab-5aec-426d-ab6a-20400f7a2e9c",
   "metadata": {},
   "outputs": [],
   "source": [
    "import numpy as np\n",
    "import pandas as pd\n",
    "import matplotlib.pyplot as plt\n",
    "%matplotlib inline\n",
    "import seaborn as sns\n",
    "from sklearn.preprocessing import StandardScaler\n",
    "from sklearn.preprocessing import quantile_transform\n",
    "from sklearn.preprocessing import minmax_scale\n",
    "from sklearn.preprocessing import OneHotEncoder  ##. better to use dummy from pandas \n",
    "from sklearn.preprocessing import PowerTransformer\n",
    "from scipy.stats import boxcox\n",
    "from sklearn.linear_model import LinearRegression\n",
    "from sklearn.model_selection import train_test_split\n",
    "import statsmodels.api as sm\n",
    "from scipy.stats import boxcox\n",
    "from sklearn.model_selection import train_test_split\n",
    "from sklearn.metrics import r2_score\n",
    "from sklearn.metrics import mean_squared_error as mse\n",
    "from sklearn.metrics import mean_absolute_error as mae\n",
    "pd.options.display.max_rows = 50\n"
   ]
  },
  {
   "cell_type": "code",
   "execution_count": 250,
   "id": "1cbe4473-d42f-4664-b57b-7467d6156643",
   "metadata": {},
   "outputs": [
    {
     "data": {
      "text/html": [
       "<div>\n",
       "<style scoped>\n",
       "    .dataframe tbody tr th:only-of-type {\n",
       "        vertical-align: middle;\n",
       "    }\n",
       "\n",
       "    .dataframe tbody tr th {\n",
       "        vertical-align: top;\n",
       "    }\n",
       "\n",
       "    .dataframe thead th {\n",
       "        text-align: right;\n",
       "    }\n",
       "</style>\n",
       "<table border=\"1\" class=\"dataframe\">\n",
       "  <thead>\n",
       "    <tr style=\"text-align: right;\">\n",
       "      <th></th>\n",
       "      <th>gender</th>\n",
       "      <th>SeniorCitizen</th>\n",
       "      <th>Partner</th>\n",
       "      <th>Dependents</th>\n",
       "      <th>tenure</th>\n",
       "      <th>PhoneService</th>\n",
       "      <th>OnlineSecurity</th>\n",
       "      <th>OnlineBackup</th>\n",
       "      <th>DeviceProtection</th>\n",
       "      <th>TechSupport</th>\n",
       "      <th>StreamingTV</th>\n",
       "      <th>StreamingMovies</th>\n",
       "      <th>Contract</th>\n",
       "      <th>MonthlyCharges</th>\n",
       "      <th>TotalCharges</th>\n",
       "      <th>Churn</th>\n",
       "    </tr>\n",
       "  </thead>\n",
       "  <tbody>\n",
       "    <tr>\n",
       "      <th>0</th>\n",
       "      <td>Female</td>\n",
       "      <td>0</td>\n",
       "      <td>Yes</td>\n",
       "      <td>No</td>\n",
       "      <td>1</td>\n",
       "      <td>No</td>\n",
       "      <td>No</td>\n",
       "      <td>Yes</td>\n",
       "      <td>No</td>\n",
       "      <td>No</td>\n",
       "      <td>No</td>\n",
       "      <td>No</td>\n",
       "      <td>Month-to-month</td>\n",
       "      <td>29.85</td>\n",
       "      <td>29.85</td>\n",
       "      <td>No</td>\n",
       "    </tr>\n",
       "    <tr>\n",
       "      <th>1</th>\n",
       "      <td>Male</td>\n",
       "      <td>0</td>\n",
       "      <td>No</td>\n",
       "      <td>No</td>\n",
       "      <td>34</td>\n",
       "      <td>Yes</td>\n",
       "      <td>Yes</td>\n",
       "      <td>No</td>\n",
       "      <td>Yes</td>\n",
       "      <td>No</td>\n",
       "      <td>No</td>\n",
       "      <td>No</td>\n",
       "      <td>One year</td>\n",
       "      <td>56.95</td>\n",
       "      <td>1889.5</td>\n",
       "      <td>No</td>\n",
       "    </tr>\n",
       "    <tr>\n",
       "      <th>2</th>\n",
       "      <td>Male</td>\n",
       "      <td>0</td>\n",
       "      <td>No</td>\n",
       "      <td>No</td>\n",
       "      <td>2</td>\n",
       "      <td>Yes</td>\n",
       "      <td>Yes</td>\n",
       "      <td>Yes</td>\n",
       "      <td>No</td>\n",
       "      <td>No</td>\n",
       "      <td>No</td>\n",
       "      <td>No</td>\n",
       "      <td>Month-to-month</td>\n",
       "      <td>53.85</td>\n",
       "      <td>108.15</td>\n",
       "      <td>Yes</td>\n",
       "    </tr>\n",
       "    <tr>\n",
       "      <th>3</th>\n",
       "      <td>Male</td>\n",
       "      <td>0</td>\n",
       "      <td>No</td>\n",
       "      <td>No</td>\n",
       "      <td>45</td>\n",
       "      <td>No</td>\n",
       "      <td>Yes</td>\n",
       "      <td>No</td>\n",
       "      <td>Yes</td>\n",
       "      <td>Yes</td>\n",
       "      <td>No</td>\n",
       "      <td>No</td>\n",
       "      <td>One year</td>\n",
       "      <td>42.30</td>\n",
       "      <td>1840.75</td>\n",
       "      <td>No</td>\n",
       "    </tr>\n",
       "    <tr>\n",
       "      <th>4</th>\n",
       "      <td>Female</td>\n",
       "      <td>0</td>\n",
       "      <td>No</td>\n",
       "      <td>No</td>\n",
       "      <td>2</td>\n",
       "      <td>Yes</td>\n",
       "      <td>No</td>\n",
       "      <td>No</td>\n",
       "      <td>No</td>\n",
       "      <td>No</td>\n",
       "      <td>No</td>\n",
       "      <td>No</td>\n",
       "      <td>Month-to-month</td>\n",
       "      <td>70.70</td>\n",
       "      <td>151.65</td>\n",
       "      <td>Yes</td>\n",
       "    </tr>\n",
       "    <tr>\n",
       "      <th>...</th>\n",
       "      <td>...</td>\n",
       "      <td>...</td>\n",
       "      <td>...</td>\n",
       "      <td>...</td>\n",
       "      <td>...</td>\n",
       "      <td>...</td>\n",
       "      <td>...</td>\n",
       "      <td>...</td>\n",
       "      <td>...</td>\n",
       "      <td>...</td>\n",
       "      <td>...</td>\n",
       "      <td>...</td>\n",
       "      <td>...</td>\n",
       "      <td>...</td>\n",
       "      <td>...</td>\n",
       "      <td>...</td>\n",
       "    </tr>\n",
       "    <tr>\n",
       "      <th>7038</th>\n",
       "      <td>Male</td>\n",
       "      <td>0</td>\n",
       "      <td>Yes</td>\n",
       "      <td>Yes</td>\n",
       "      <td>24</td>\n",
       "      <td>Yes</td>\n",
       "      <td>Yes</td>\n",
       "      <td>No</td>\n",
       "      <td>Yes</td>\n",
       "      <td>Yes</td>\n",
       "      <td>Yes</td>\n",
       "      <td>Yes</td>\n",
       "      <td>One year</td>\n",
       "      <td>84.80</td>\n",
       "      <td>1990.5</td>\n",
       "      <td>No</td>\n",
       "    </tr>\n",
       "    <tr>\n",
       "      <th>7039</th>\n",
       "      <td>Female</td>\n",
       "      <td>0</td>\n",
       "      <td>Yes</td>\n",
       "      <td>Yes</td>\n",
       "      <td>72</td>\n",
       "      <td>Yes</td>\n",
       "      <td>No</td>\n",
       "      <td>Yes</td>\n",
       "      <td>Yes</td>\n",
       "      <td>No</td>\n",
       "      <td>Yes</td>\n",
       "      <td>Yes</td>\n",
       "      <td>One year</td>\n",
       "      <td>103.20</td>\n",
       "      <td>7362.9</td>\n",
       "      <td>No</td>\n",
       "    </tr>\n",
       "    <tr>\n",
       "      <th>7040</th>\n",
       "      <td>Female</td>\n",
       "      <td>0</td>\n",
       "      <td>Yes</td>\n",
       "      <td>Yes</td>\n",
       "      <td>11</td>\n",
       "      <td>No</td>\n",
       "      <td>Yes</td>\n",
       "      <td>No</td>\n",
       "      <td>No</td>\n",
       "      <td>No</td>\n",
       "      <td>No</td>\n",
       "      <td>No</td>\n",
       "      <td>Month-to-month</td>\n",
       "      <td>29.60</td>\n",
       "      <td>346.45</td>\n",
       "      <td>No</td>\n",
       "    </tr>\n",
       "    <tr>\n",
       "      <th>7041</th>\n",
       "      <td>Male</td>\n",
       "      <td>1</td>\n",
       "      <td>Yes</td>\n",
       "      <td>No</td>\n",
       "      <td>4</td>\n",
       "      <td>Yes</td>\n",
       "      <td>No</td>\n",
       "      <td>No</td>\n",
       "      <td>No</td>\n",
       "      <td>No</td>\n",
       "      <td>No</td>\n",
       "      <td>No</td>\n",
       "      <td>Month-to-month</td>\n",
       "      <td>74.40</td>\n",
       "      <td>306.6</td>\n",
       "      <td>Yes</td>\n",
       "    </tr>\n",
       "    <tr>\n",
       "      <th>7042</th>\n",
       "      <td>Male</td>\n",
       "      <td>0</td>\n",
       "      <td>No</td>\n",
       "      <td>No</td>\n",
       "      <td>66</td>\n",
       "      <td>Yes</td>\n",
       "      <td>Yes</td>\n",
       "      <td>No</td>\n",
       "      <td>Yes</td>\n",
       "      <td>Yes</td>\n",
       "      <td>Yes</td>\n",
       "      <td>Yes</td>\n",
       "      <td>Two year</td>\n",
       "      <td>105.65</td>\n",
       "      <td>6844.5</td>\n",
       "      <td>No</td>\n",
       "    </tr>\n",
       "  </tbody>\n",
       "</table>\n",
       "<p>7043 rows × 16 columns</p>\n",
       "</div>"
      ],
      "text/plain": [
       "      gender  SeniorCitizen Partner Dependents  tenure PhoneService  \\\n",
       "0     Female              0     Yes         No       1           No   \n",
       "1       Male              0      No         No      34          Yes   \n",
       "2       Male              0      No         No       2          Yes   \n",
       "3       Male              0      No         No      45           No   \n",
       "4     Female              0      No         No       2          Yes   \n",
       "...      ...            ...     ...        ...     ...          ...   \n",
       "7038    Male              0     Yes        Yes      24          Yes   \n",
       "7039  Female              0     Yes        Yes      72          Yes   \n",
       "7040  Female              0     Yes        Yes      11           No   \n",
       "7041    Male              1     Yes         No       4          Yes   \n",
       "7042    Male              0      No         No      66          Yes   \n",
       "\n",
       "     OnlineSecurity OnlineBackup DeviceProtection TechSupport StreamingTV  \\\n",
       "0                No          Yes               No          No          No   \n",
       "1               Yes           No              Yes          No          No   \n",
       "2               Yes          Yes               No          No          No   \n",
       "3               Yes           No              Yes         Yes          No   \n",
       "4                No           No               No          No          No   \n",
       "...             ...          ...              ...         ...         ...   \n",
       "7038            Yes           No              Yes         Yes         Yes   \n",
       "7039             No          Yes              Yes          No         Yes   \n",
       "7040            Yes           No               No          No          No   \n",
       "7041             No           No               No          No          No   \n",
       "7042            Yes           No              Yes         Yes         Yes   \n",
       "\n",
       "     StreamingMovies        Contract  MonthlyCharges TotalCharges Churn  \n",
       "0                 No  Month-to-month           29.85        29.85    No  \n",
       "1                 No        One year           56.95       1889.5    No  \n",
       "2                 No  Month-to-month           53.85       108.15   Yes  \n",
       "3                 No        One year           42.30      1840.75    No  \n",
       "4                 No  Month-to-month           70.70       151.65   Yes  \n",
       "...              ...             ...             ...          ...   ...  \n",
       "7038             Yes        One year           84.80       1990.5    No  \n",
       "7039             Yes        One year          103.20       7362.9    No  \n",
       "7040              No  Month-to-month           29.60       346.45    No  \n",
       "7041              No  Month-to-month           74.40        306.6   Yes  \n",
       "7042             Yes        Two year          105.65       6844.5    No  \n",
       "\n",
       "[7043 rows x 16 columns]"
      ]
     },
     "execution_count": 250,
     "metadata": {},
     "output_type": "execute_result"
    }
   ],
   "source": [
    "churnData = pd.read_csv('Data/DATA_Customer-Churn.csv')\n",
    "churnData"
   ]
  },
  {
   "cell_type": "markdown",
   "id": "873b6da8-8495-4a94-8e31-8eadc6c39a6c",
   "metadata": {},
   "source": [
    "### Check the datatypes of all the columns"
   ]
  },
  {
   "cell_type": "code",
   "execution_count": 251,
   "id": "b8913586-405a-4116-8611-11bbc6bee2f9",
   "metadata": {},
   "outputs": [
    {
     "name": "stdout",
     "output_type": "stream",
     "text": [
      "<class 'pandas.core.frame.DataFrame'>\n",
      "RangeIndex: 7043 entries, 0 to 7042\n",
      "Data columns (total 16 columns):\n",
      " #   Column            Non-Null Count  Dtype  \n",
      "---  ------            --------------  -----  \n",
      " 0   gender            7043 non-null   object \n",
      " 1   SeniorCitizen     7043 non-null   int64  \n",
      " 2   Partner           7043 non-null   object \n",
      " 3   Dependents        7043 non-null   object \n",
      " 4   tenure            7043 non-null   int64  \n",
      " 5   PhoneService      7043 non-null   object \n",
      " 6   OnlineSecurity    7043 non-null   object \n",
      " 7   OnlineBackup      7043 non-null   object \n",
      " 8   DeviceProtection  7043 non-null   object \n",
      " 9   TechSupport       7043 non-null   object \n",
      " 10  StreamingTV       7043 non-null   object \n",
      " 11  StreamingMovies   7043 non-null   object \n",
      " 12  Contract          7043 non-null   object \n",
      " 13  MonthlyCharges    7043 non-null   float64\n",
      " 14  TotalCharges      7043 non-null   object \n",
      " 15  Churn             7043 non-null   object \n",
      "dtypes: float64(1), int64(2), object(13)\n",
      "memory usage: 880.5+ KB\n"
     ]
    }
   ],
   "source": [
    "churnData.info()"
   ]
  },
  {
   "cell_type": "markdown",
   "id": "b06efaa6-8dec-4c77-8349-13d260ed4b38",
   "metadata": {},
   "source": [
    "### Convert TotalCharges into numeric type using pd.to_numeric function."
   ]
  },
  {
   "cell_type": "code",
   "execution_count": 252,
   "id": "007804f7-210f-44f1-83b1-ce3a4ab817c5",
   "metadata": {},
   "outputs": [
    {
     "data": {
      "text/plain": [
       "gender               object\n",
       "SeniorCitizen         int64\n",
       "Partner              object\n",
       "Dependents           object\n",
       "tenure                int64\n",
       "PhoneService         object\n",
       "OnlineSecurity       object\n",
       "OnlineBackup         object\n",
       "DeviceProtection     object\n",
       "TechSupport          object\n",
       "StreamingTV          object\n",
       "StreamingMovies      object\n",
       "Contract             object\n",
       "MonthlyCharges      float64\n",
       "TotalCharges        float64\n",
       "Churn                object\n",
       "dtype: object"
      ]
     },
     "execution_count": 252,
     "metadata": {},
     "output_type": "execute_result"
    }
   ],
   "source": [
    "churnData['TotalCharges'] = pd.to_numeric(churnData['TotalCharges'], errors='coerce')\n",
    "churnData.dtypes"
   ]
  },
  {
   "cell_type": "code",
   "execution_count": 253,
   "id": "08c2de9f-10f0-4ae8-8622-27e9609e59fe",
   "metadata": {},
   "outputs": [
    {
     "name": "stdout",
     "output_type": "stream",
     "text": [
      "<class 'pandas.core.frame.DataFrame'>\n",
      "RangeIndex: 7043 entries, 0 to 7042\n",
      "Data columns (total 16 columns):\n",
      " #   Column            Non-Null Count  Dtype  \n",
      "---  ------            --------------  -----  \n",
      " 0   gender            7043 non-null   object \n",
      " 1   SeniorCitizen     7043 non-null   int64  \n",
      " 2   Partner           7043 non-null   object \n",
      " 3   Dependents        7043 non-null   object \n",
      " 4   tenure            7043 non-null   int64  \n",
      " 5   PhoneService      7043 non-null   object \n",
      " 6   OnlineSecurity    7043 non-null   object \n",
      " 7   OnlineBackup      7043 non-null   object \n",
      " 8   DeviceProtection  7043 non-null   object \n",
      " 9   TechSupport       7043 non-null   object \n",
      " 10  StreamingTV       7043 non-null   object \n",
      " 11  StreamingMovies   7043 non-null   object \n",
      " 12  Contract          7043 non-null   object \n",
      " 13  MonthlyCharges    7043 non-null   float64\n",
      " 14  TotalCharges      7032 non-null   float64\n",
      " 15  Churn             7043 non-null   object \n",
      "dtypes: float64(2), int64(2), object(12)\n",
      "memory usage: 880.5+ KB\n"
     ]
    }
   ],
   "source": [
    "churnData.info()"
   ]
  },
  {
   "cell_type": "markdown",
   "id": "814165e7-14cf-48bf-8bdd-fe730f1dcff3",
   "metadata": {},
   "source": [
    "### Check and replace the null values in the Data Frame"
   ]
  },
  {
   "cell_type": "code",
   "execution_count": 254,
   "id": "dedecabe-a547-48d4-a5b5-e0a622e68740",
   "metadata": {},
   "outputs": [
    {
     "data": {
      "text/plain": [
       "gender               0\n",
       "SeniorCitizen        0\n",
       "Partner              0\n",
       "Dependents           0\n",
       "tenure               0\n",
       "PhoneService         0\n",
       "OnlineSecurity       0\n",
       "OnlineBackup         0\n",
       "DeviceProtection     0\n",
       "TechSupport          0\n",
       "StreamingTV          0\n",
       "StreamingMovies      0\n",
       "Contract             0\n",
       "MonthlyCharges       0\n",
       "TotalCharges        11\n",
       "Churn                0\n",
       "dtype: int64"
      ]
     },
     "execution_count": 254,
     "metadata": {},
     "output_type": "execute_result"
    }
   ],
   "source": [
    "churnData.isnull().sum()"
   ]
  },
  {
   "cell_type": "code",
   "execution_count": 255,
   "id": "c1553906-866d-4f66-b35c-dc5fcf7e35bf",
   "metadata": {},
   "outputs": [],
   "source": [
    "churnData = churnData.dropna()"
   ]
  },
  {
   "cell_type": "code",
   "execution_count": 256,
   "id": "707db250-46fd-482f-aebb-ffbda3a2fba3",
   "metadata": {},
   "outputs": [
    {
     "data": {
      "text/plain": [
       "gender              0\n",
       "SeniorCitizen       0\n",
       "Partner             0\n",
       "Dependents          0\n",
       "tenure              0\n",
       "PhoneService        0\n",
       "OnlineSecurity      0\n",
       "OnlineBackup        0\n",
       "DeviceProtection    0\n",
       "TechSupport         0\n",
       "StreamingTV         0\n",
       "StreamingMovies     0\n",
       "Contract            0\n",
       "MonthlyCharges      0\n",
       "TotalCharges        0\n",
       "Churn               0\n",
       "dtype: int64"
      ]
     },
     "execution_count": 256,
     "metadata": {},
     "output_type": "execute_result"
    }
   ],
   "source": [
    "churnData.isnull().sum()"
   ]
  },
  {
   "cell_type": "code",
   "execution_count": null,
   "id": "e2e977e1-5b9e-4e41-974c-e51a1635c0a3",
   "metadata": {},
   "outputs": [],
   "source": []
  },
  {
   "cell_type": "markdown",
   "id": "00eba214-d712-40f1-a938-c8304aa34c9d",
   "metadata": {
    "tags": []
   },
   "source": [
    "### Use the following features: tenure, SeniorCitizen, MonthlyCharges and TotalCharges:\n",
    "- Scale the features either by using normalizer or a standard scaler.\n",
    "- Split the data into a training set and a test set.\n",
    "- Fit a logistic Regression model on the training data.\n",
    "- Fit a Knn Classifier model on the training data"
   ]
  },
  {
   "cell_type": "code",
   "execution_count": 303,
   "id": "63e138dd-5a35-4508-80ed-b0ca4972a1f4",
   "metadata": {},
   "outputs": [],
   "source": [
    "from sklearn.linear_model import LogisticRegression\n",
    "from sklearn.preprocessing import PowerTransformer\n",
    "from sklearn.metrics import accuracy_score, precision_score, recall_score, confusion_matrix\n",
    "from sklearn.metrics import plot_confusion_matrix\n",
    "\n",
    "X = churnData[['tenure','SeniorCitizen', 'MonthlyCharges','TotalCharges']]\n",
    "y = churnData[['Churn']]\n",
    "\n",
    "## Data splitting\n",
    "X_train, X_test, y_train, y_test = train_test_split(X, y, test_size=0.20, random_state=123)\n",
    "\n",
    "log_model = LogisticRegression() \n"
   ]
  },
  {
   "cell_type": "code",
   "execution_count": 304,
   "id": "10027c3e-999c-4c38-ac03-dc0dc7761e35",
   "metadata": {},
   "outputs": [
    {
     "data": {
      "text/plain": [
       "tenure              int64\n",
       "SeniorCitizen       int64\n",
       "MonthlyCharges    float64\n",
       "TotalCharges      float64\n",
       "dtype: object"
      ]
     },
     "execution_count": 304,
     "metadata": {},
     "output_type": "execute_result"
    }
   ],
   "source": [
    "X.dtypes"
   ]
  },
  {
   "cell_type": "code",
   "execution_count": 305,
   "id": "f94455f0-32a2-41a7-a84b-9810f2d6e0ce",
   "metadata": {},
   "outputs": [
    {
     "data": {
      "text/plain": [
       "Churn    object\n",
       "dtype: object"
      ]
     },
     "execution_count": 305,
     "metadata": {},
     "output_type": "execute_result"
    }
   ],
   "source": [
    "y.dtypes"
   ]
  },
  {
   "cell_type": "code",
   "execution_count": 306,
   "id": "e039acb5-5fca-4793-9f86-b3dd3ad347ea",
   "metadata": {},
   "outputs": [
    {
     "data": {
      "text/html": [
       "<div>\n",
       "<style scoped>\n",
       "    .dataframe tbody tr th:only-of-type {\n",
       "        vertical-align: middle;\n",
       "    }\n",
       "\n",
       "    .dataframe tbody tr th {\n",
       "        vertical-align: top;\n",
       "    }\n",
       "\n",
       "    .dataframe thead th {\n",
       "        text-align: right;\n",
       "    }\n",
       "</style>\n",
       "<table border=\"1\" class=\"dataframe\">\n",
       "  <thead>\n",
       "    <tr style=\"text-align: right;\">\n",
       "      <th></th>\n",
       "      <th>Churn</th>\n",
       "    </tr>\n",
       "  </thead>\n",
       "  <tbody>\n",
       "    <tr>\n",
       "      <th>0</th>\n",
       "      <td>No</td>\n",
       "    </tr>\n",
       "    <tr>\n",
       "      <th>1</th>\n",
       "      <td>No</td>\n",
       "    </tr>\n",
       "    <tr>\n",
       "      <th>2</th>\n",
       "      <td>Yes</td>\n",
       "    </tr>\n",
       "    <tr>\n",
       "      <th>3</th>\n",
       "      <td>No</td>\n",
       "    </tr>\n",
       "    <tr>\n",
       "      <th>4</th>\n",
       "      <td>Yes</td>\n",
       "    </tr>\n",
       "    <tr>\n",
       "      <th>...</th>\n",
       "      <td>...</td>\n",
       "    </tr>\n",
       "    <tr>\n",
       "      <th>7038</th>\n",
       "      <td>No</td>\n",
       "    </tr>\n",
       "    <tr>\n",
       "      <th>7039</th>\n",
       "      <td>No</td>\n",
       "    </tr>\n",
       "    <tr>\n",
       "      <th>7040</th>\n",
       "      <td>No</td>\n",
       "    </tr>\n",
       "    <tr>\n",
       "      <th>7041</th>\n",
       "      <td>Yes</td>\n",
       "    </tr>\n",
       "    <tr>\n",
       "      <th>7042</th>\n",
       "      <td>No</td>\n",
       "    </tr>\n",
       "  </tbody>\n",
       "</table>\n",
       "<p>7032 rows × 1 columns</p>\n",
       "</div>"
      ],
      "text/plain": [
       "     Churn\n",
       "0       No\n",
       "1       No\n",
       "2      Yes\n",
       "3       No\n",
       "4      Yes\n",
       "...    ...\n",
       "7038    No\n",
       "7039    No\n",
       "7040    No\n",
       "7041   Yes\n",
       "7042    No\n",
       "\n",
       "[7032 rows x 1 columns]"
      ]
     },
     "execution_count": 306,
     "metadata": {},
     "output_type": "execute_result"
    }
   ],
   "source": [
    "y"
   ]
  },
  {
   "cell_type": "markdown",
   "id": "18281a1a-6968-4e0e-9edd-e0fd3f93a61e",
   "metadata": {},
   "source": [
    "### Fit the Logistic Regression model\n",
    "Classification Analysis"
   ]
  },
  {
   "cell_type": "code",
   "execution_count": 307,
   "id": "24bd7de3-abb8-4479-8e8c-bddf47f1eda4",
   "metadata": {},
   "outputs": [],
   "source": [
    "# Create the Model\n",
    "# Data Transformer\n",
    "trans = PowerTransformer()    # the powerTransformer standardize the data by default\n",
    "                              # https://scikit-learn.org/stable/modules/generated/sklearn.preprocessing.PowerTransformer.html\n",
    "\n",
    "    \n",
    "trans.fit(X_train)      # fit only the train because we use the test after to test the model.\n",
    "\n",
    "X_train_mod = trans.transform(X_train)\n",
    "X_test_mod  = trans.transform(X_test)\n",
    "\n",
    "X_train_mod = trans.transform(X_train)\n",
    "X_test_mod  = trans.transform(X_test)\n",
    "\n",
    "log_model.fit(X_train_mod, y_train)\n",
    "\n",
    "y_pred_train_log = log_model.predict(X_train_mod)\n",
    "y_pred_test_log = log_model.predict(X_test_mod)"
   ]
  },
  {
   "cell_type": "markdown",
   "id": "f99267dd-faac-4ef5-a6cf-07ef6499aeee",
   "metadata": {},
   "source": [
    "#### Check the Accuracy, Precision and Recall of the Model"
   ]
  },
  {
   "cell_type": "code",
   "execution_count": 308,
   "id": "9f98f606-e220-48ab-b7cc-e14aa1298d9c",
   "metadata": {},
   "outputs": [
    {
     "data": {
      "text/html": [
       "<div>\n",
       "<style scoped>\n",
       "    .dataframe tbody tr th:only-of-type {\n",
       "        vertical-align: middle;\n",
       "    }\n",
       "\n",
       "    .dataframe tbody tr th {\n",
       "        vertical-align: top;\n",
       "    }\n",
       "\n",
       "    .dataframe thead th {\n",
       "        text-align: right;\n",
       "    }\n",
       "</style>\n",
       "<table border=\"1\" class=\"dataframe\">\n",
       "  <thead>\n",
       "    <tr style=\"text-align: right;\">\n",
       "      <th></th>\n",
       "      <th>Error_metric</th>\n",
       "      <th>Train</th>\n",
       "      <th>Test</th>\n",
       "    </tr>\n",
       "  </thead>\n",
       "  <tbody>\n",
       "    <tr>\n",
       "      <th>0</th>\n",
       "      <td>Accuracy</td>\n",
       "      <td>0.791289</td>\n",
       "      <td>0.778252</td>\n",
       "    </tr>\n",
       "    <tr>\n",
       "      <th>1</th>\n",
       "      <td>Precision</td>\n",
       "      <td>0.651709</td>\n",
       "      <td>0.708861</td>\n",
       "    </tr>\n",
       "    <tr>\n",
       "      <th>2</th>\n",
       "      <td>Recall</td>\n",
       "      <td>0.418381</td>\n",
       "      <td>0.408759</td>\n",
       "    </tr>\n",
       "  </tbody>\n",
       "</table>\n",
       "</div>"
      ],
      "text/plain": [
       "  Error_metric     Train      Test\n",
       "0     Accuracy  0.791289  0.778252\n",
       "1    Precision  0.651709  0.708861\n",
       "2       Recall  0.418381  0.408759"
      ]
     },
     "metadata": {},
     "output_type": "display_data"
    }
   ],
   "source": [
    "performance_log = pd.DataFrame({'Error_metric': ['Accuracy','Precision','Recall'],\n",
    "                               'Train': [accuracy_score(y_train, y_pred_train_log),\n",
    "                                         precision_score(y_train, y_pred_train_log, pos_label='Yes'),\n",
    "                                         recall_score(y_train, y_pred_train_log, pos_label='Yes')],\n",
    "                               'Test': [accuracy_score(y_test, y_pred_test_log),\n",
    "                                        precision_score(y_test, y_pred_test_log, pos_label='Yes'),\n",
    "                                        recall_score(y_test, y_pred_test_log, pos_label='Yes')]})\n",
    "                                         # pos_label='Yes' let you working with objects in the test set. and Hilal is the best :)\n",
    "\n",
    "display(performance_log)"
   ]
  },
  {
   "cell_type": "code",
   "execution_count": 263,
   "id": "2b0b4e73-eb5e-46a7-9779-e9492baff834",
   "metadata": {},
   "outputs": [
    {
     "name": "stdout",
     "output_type": "stream",
     "text": [
      "Confusion matrix for the train set\n",
      "[[3841  326]\n",
      " [ 848  610]]\n"
     ]
    },
    {
     "data": {
      "image/png": "[encoded data removed]",
      "text/plain": [
       "<Figure size 432x288 with 2 Axes>"
      ]
     },
     "metadata": {
      "needs_background": "light"
     },
     "output_type": "display_data"
    },
    {
     "name": "stdout",
     "output_type": "stream",
     "text": [
      "\n",
      "Confusion matrix for the test set\n",
      "[[927  69]\n",
      " [243 168]]\n"
     ]
    },
    {
     "data": {
      "image/png": "[encoded data removed]",
      "text/plain": [
       "<Figure size 432x288 with 2 Axes>"
      ]
     },
     "metadata": {
      "needs_background": "light"
     },
     "output_type": "display_data"
    }
   ],
   "source": [
    "print(\"Confusion matrix for the train set\")\n",
    "print(confusion_matrix(y_train,y_pred_train_log))\n",
    "plot_confusion_matrix(log_model,X_train_mod,y_train, values_format = 'd')\n",
    "plt.show()\n",
    "\n",
    "print()\n",
    "\n",
    "print(\"Confusion matrix for the test set\")\n",
    "print(confusion_matrix(y_test, y_pred_test_log))\n",
    "plot_confusion_matrix(log_model,X_test_mod,y_test, values_format = 'd')\n",
    "plt.show()"
   ]
  },
  {
   "cell_type": "code",
   "execution_count": null,
   "id": "149bd0b0-aaaf-4898-9e81-f1400226ef06",
   "metadata": {},
   "outputs": [],
   "source": []
  },
  {
   "cell_type": "markdown",
   "id": "91de51b6-6f9b-4b5e-a7b7-95d9b67287a6",
   "metadata": {
    "tags": []
   },
   "source": [
    "### Fit a Knn Classifier model on the training data\n",
    "Classification analysis"
   ]
  },
  {
   "cell_type": "code",
   "execution_count": 264,
   "id": "c67a3926-7e6e-4165-ae6c-94514b8df4f9",
   "metadata": {},
   "outputs": [],
   "source": [
    "from sklearn.neighbors import KNeighborsClassifier\n",
    "\n",
    "X2 = churnData[['tenure','SeniorCitizen', 'MonthlyCharges','TotalCharges']]\n",
    "y2 = churnData[['Churn']]\n",
    "\n",
    "X2_train, X2_test, y2_train, y2_test = train_test_split(X2, y2, test_size=0.30, random_state=17)\n",
    "\n",
    "\n",
    "model = KNeighborsClassifier(n_neighbors=2,weights='uniform')\n",
    "model.fit(X2_train, y2_train)\n",
    "y2_pred=model.predict(X2_test)\n",
    "y2_pred_train=model.predict(X2_train)\n",
    "#model.predict_proba(inputdata)\n"
   ]
  },
  {
   "cell_type": "code",
   "execution_count": null,
   "id": "a7f219b4-198f-41e2-a335-7017aadabe38",
   "metadata": {},
   "outputs": [],
   "source": []
  },
  {
   "cell_type": "markdown",
   "id": "a4ca8cf0-ced5-48c3-8f7a-d8c3fb5afa8f",
   "metadata": {},
   "source": [
    "#### Check the Accuracy, Precision and Recall of the Model"
   ]
  },
  {
   "cell_type": "code",
   "execution_count": 265,
   "id": "44204819-e94d-410f-8126-cae3bfcb3bfd",
   "metadata": {},
   "outputs": [
    {
     "data": {
      "text/html": [
       "<div>\n",
       "<style scoped>\n",
       "    .dataframe tbody tr th:only-of-type {\n",
       "        vertical-align: middle;\n",
       "    }\n",
       "\n",
       "    .dataframe tbody tr th {\n",
       "        vertical-align: top;\n",
       "    }\n",
       "\n",
       "    .dataframe thead th {\n",
       "        text-align: right;\n",
       "    }\n",
       "</style>\n",
       "<table border=\"1\" class=\"dataframe\">\n",
       "  <thead>\n",
       "    <tr style=\"text-align: right;\">\n",
       "      <th></th>\n",
       "      <th>Error_metric</th>\n",
       "      <th>Train</th>\n",
       "      <th>Test</th>\n",
       "    </tr>\n",
       "  </thead>\n",
       "  <tbody>\n",
       "    <tr>\n",
       "      <th>0</th>\n",
       "      <td>Accuracy</td>\n",
       "      <td>0.857578</td>\n",
       "      <td>0.757346</td>\n",
       "    </tr>\n",
       "    <tr>\n",
       "      <th>1</th>\n",
       "      <td>Precision</td>\n",
       "      <td>0.995208</td>\n",
       "      <td>0.567669</td>\n",
       "    </tr>\n",
       "    <tr>\n",
       "      <th>2</th>\n",
       "      <td>Recall</td>\n",
       "      <td>0.471612</td>\n",
       "      <td>0.275547</td>\n",
       "    </tr>\n",
       "  </tbody>\n",
       "</table>\n",
       "</div>"
      ],
      "text/plain": [
       "  Error_metric     Train      Test\n",
       "0     Accuracy  0.857578  0.757346\n",
       "1    Precision  0.995208  0.567669\n",
       "2       Recall  0.471612  0.275547"
      ]
     },
     "execution_count": 265,
     "metadata": {},
     "output_type": "execute_result"
    }
   ],
   "source": [
    "from sklearn.metrics import accuracy_score, precision_score, recall_score, confusion_matrix\n",
    "from sklearn.metrics import plot_confusion_matrix\n",
    "\n",
    "def evaluate_classification_model(y2_train, y2_pred_train, y2_test, y2_pred_test):\n",
    "    performance_df = pd.DataFrame({'Error_metric': ['Accuracy','Precision','Recall'],\n",
    "                               'Train': [accuracy_score(y2_train, y2_pred_train),\n",
    "                                         precision_score(y2_train, y2_pred_train, pos_label='Yes'),\n",
    "                                         recall_score(y2_train, y2_pred_train, pos_label='Yes')],\n",
    "                               'Test': [accuracy_score(y2_test, y2_pred_test),\n",
    "                                        precision_score(y2_test, y2_pred_test, pos_label='Yes'),\n",
    "                                        recall_score(y2_test, y2_pred_test, pos_label='Yes')]})\n",
    "    \n",
    "\n",
    "    return performance_df\n",
    "\n",
    "evaluate_classification_model(y2_train, y2_pred_train, y2_test, y2_pred)\n",
    "                                                    \n"
   ]
  },
  {
   "cell_type": "markdown",
   "id": "e17a40fd-b9cc-4737-be9f-481dee5273c1",
   "metadata": {},
   "source": [
    "#### Plot the Confusion Matrix of the predict model"
   ]
  },
  {
   "cell_type": "code",
   "execution_count": 266,
   "id": "807f4d18-205b-45b2-b20b-963ad6048082",
   "metadata": {},
   "outputs": [
    {
     "data": {
      "image/png": "[encoded data removed]",
      "text/plain": [
       "<Figure size 1008x576 with 4 Axes>"
      ]
     },
     "metadata": {
      "needs_background": "light"
     },
     "output_type": "display_data"
    }
   ],
   "source": [
    "\n",
    "from sklearn.metrics import plot_confusion_matrix\n",
    "\n",
    "fig, ax = plt.subplots(1,2, figsize=(14,8))\n",
    "\n",
    "plot_confusion_matrix(model,X2_train,y2_train,ax=ax[0], values_format = 'd')\n",
    "ax[0].title.set_text(\"Train Set\")\n",
    "\n",
    "plot_confusion_matrix(model,X2_test,y2_test,ax=ax[1],values_format = 'd')\n",
    "ax[1].title.set_text(\"Test Set\")"
   ]
  },
  {
   "cell_type": "code",
   "execution_count": null,
   "id": "f695a060-145e-4277-bad6-e20f3c3a79e8",
   "metadata": {},
   "outputs": [],
   "source": []
  },
  {
   "cell_type": "markdown",
   "id": "c8d0d5de-69ee-4907-bdd4-7d24c8d30ab7",
   "metadata": {},
   "source": [
    "## Round 2\n",
    "\n",
    "- Fit a Decision Tree Classifier on the training data.\n",
    "- Check the accuracy on the test data."
   ]
  },
  {
   "cell_type": "markdown",
   "id": "c1aa9ea6-0442-49b9-83d5-1f370cc22810",
   "metadata": {},
   "source": [
    "### Fit a Decision Tree Classifier on the training data.\n",
    "Note: with the Decision Tree method do not standardize the data."
   ]
  },
  {
   "cell_type": "code",
   "execution_count": null,
   "id": "53d24caa-7999-4afd-9429-fe725e6ba6cb",
   "metadata": {},
   "outputs": [],
   "source": []
  },
  {
   "cell_type": "code",
   "execution_count": 267,
   "id": "522a4194-7f04-43f2-b431-b7a9e9958d13",
   "metadata": {},
   "outputs": [],
   "source": [
    "\n",
    "from sklearn.tree import DecisionTreeClassifier\n",
    "from sklearn.model_selection import train_test_split\n",
    "from sklearn.tree import plot_tree\n",
    "import warnings\n",
    "warnings.filterwarnings('ignore')"
   ]
  },
  {
   "cell_type": "code",
   "execution_count": 268,
   "id": "b893e348-eb11-4c74-8f21-35714f71d380",
   "metadata": {},
   "outputs": [
    {
     "name": "stdout",
     "output_type": "stream",
     "text": [
      "Confusion matrix for the train set\n",
      "[[3355  709]\n",
      " [ 246  612]]\n"
     ]
    },
    {
     "data": {
      "image/png": "[encoded data removed]",
      "text/plain": [
       "<Figure size 432x288 with 2 Axes>"
      ]
     },
     "metadata": {
      "needs_background": "light"
     },
     "output_type": "display_data"
    },
    {
     "name": "stdout",
     "output_type": "stream",
     "text": [
      "\n",
      "\n",
      "Confusion matrix for the test set\n",
      "[[1422  327]\n",
      " [ 140  221]]\n"
     ]
    },
    {
     "data": {
      "image/png": "[encoded data removed]",
      "text/plain": [
       "<Figure size 432x288 with 2 Axes>"
      ]
     },
     "metadata": {
      "needs_background": "light"
     },
     "output_type": "display_data"
    }
   ],
   "source": [
    "X3 = churnData[['tenure','SeniorCitizen', 'MonthlyCharges','TotalCharges']]\n",
    "y3 = churnData[['Churn']]\n",
    "\n",
    "X3_train, X3_test, y3_train, y3_test = train_test_split(X3, y3, test_size=0.30, random_state=17)\n",
    "\n",
    "\n",
    "# Bear in mind that sklearn uses a different function for decission trees used for \n",
    "# classification ( to predict a categorical feature ): DecisionTreeClassifier() \n",
    "\n",
    "dt = DecisionTreeClassifier(max_features=4, random_state=123, max_depth=6, min_samples_split=5, min_samples_leaf=1)\n",
    "\n",
    "dt.fit(X3_train, y3_train)\n",
    "\n",
    "y3_pred_train_dt = dt.predict(X3_train)\n",
    "y3_pred_test_dt = dt.predict(X3_test)\n",
    "\n",
    "\n",
    "# Plot the confusion matrix\n",
    "print(\"Confusion matrix for the train set\")\n",
    "print(confusion_matrix(y3_train,y3_pred_train_dt).T)\n",
    "plot_confusion_matrix(dt,X3_train,y3_train, values_format = 'd')\n",
    "plt.show()\n",
    "\n",
    "print()\n",
    "print()\n",
    "\n",
    "print(\"Confusion matrix for the test set\")\n",
    "print(confusion_matrix(y3_test,y3_pred_test_dt).T)\n",
    "plot_confusion_matrix(dt,X3_test,y3_test, values_format = 'd')\n",
    "plt.show()"
   ]
  },
  {
   "cell_type": "code",
   "execution_count": null,
   "id": "cbd59606-68cb-4575-9620-308f2a8448ba",
   "metadata": {},
   "outputs": [],
   "source": []
  },
  {
   "cell_type": "markdown",
   "id": "94c71d42-9be3-4cf7-9a03-80d6cfe1eb2c",
   "metadata": {},
   "source": [
    "#### Check the accuracy on the test data."
   ]
  },
  {
   "cell_type": "code",
   "execution_count": 269,
   "id": "c05b78a9-75d8-4474-866f-183c7ee23f59",
   "metadata": {},
   "outputs": [
    {
     "data": {
      "text/html": [
       "<div>\n",
       "<style scoped>\n",
       "    .dataframe tbody tr th:only-of-type {\n",
       "        vertical-align: middle;\n",
       "    }\n",
       "\n",
       "    .dataframe tbody tr th {\n",
       "        vertical-align: top;\n",
       "    }\n",
       "\n",
       "    .dataframe thead th {\n",
       "        text-align: right;\n",
       "    }\n",
       "</style>\n",
       "<table border=\"1\" class=\"dataframe\">\n",
       "  <thead>\n",
       "    <tr style=\"text-align: right;\">\n",
       "      <th></th>\n",
       "      <th>Error_metric</th>\n",
       "      <th>Train</th>\n",
       "      <th>Test</th>\n",
       "    </tr>\n",
       "  </thead>\n",
       "  <tbody>\n",
       "    <tr>\n",
       "      <th>0</th>\n",
       "      <td>Accuracy</td>\n",
       "      <td>0.805973</td>\n",
       "      <td>0.778673</td>\n",
       "    </tr>\n",
       "    <tr>\n",
       "      <th>1</th>\n",
       "      <td>Precision</td>\n",
       "      <td>0.713287</td>\n",
       "      <td>0.612188</td>\n",
       "    </tr>\n",
       "    <tr>\n",
       "      <th>2</th>\n",
       "      <td>Recall</td>\n",
       "      <td>0.463285</td>\n",
       "      <td>0.403285</td>\n",
       "    </tr>\n",
       "  </tbody>\n",
       "</table>\n",
       "</div>"
      ],
      "text/plain": [
       "  Error_metric     Train      Test\n",
       "0     Accuracy  0.805973  0.778673\n",
       "1    Precision  0.713287  0.612188\n",
       "2       Recall  0.463285  0.403285"
      ]
     },
     "metadata": {},
     "output_type": "display_data"
    }
   ],
   "source": [
    "\n",
    "# Calculate 'Accuracy','Precision','Recall' of the model.\n",
    "performance_df = pd.DataFrame({'Error_metric': ['Accuracy','Precision','Recall'],\n",
    "                               'Train': [accuracy_score(y3_train, y3_pred_train_dt),\n",
    "                                         precision_score(y3_train, y3_pred_train_dt, pos_label='Yes'),\n",
    "                                         recall_score(y3_train, y3_pred_train_dt, pos_label='Yes')],\n",
    "                               'Test': [accuracy_score(y3_test, y3_pred_test_dt),\n",
    "                                        precision_score(y3_test, y3_pred_test_dt, pos_label='Yes'),\n",
    "                                        recall_score(y3_test, y3_pred_test_dt, pos_label='Yes')]})\n",
    "\n",
    "display(performance_df)\n",
    "\n"
   ]
  },
  {
   "cell_type": "markdown",
   "id": "7314ef57-f034-43b9-a84c-3d87e4fcbfc7",
   "metadata": {},
   "source": [
    "#### Show the Tree"
   ]
  },
  {
   "cell_type": "code",
   "execution_count": null,
   "id": "41d793f0-4970-43bc-88f3-ed1ddabdcac9",
   "metadata": {},
   "outputs": [
    {
     "data": {
      "image/png": "[encoded data removed]",
      "text/plain": [
       "<Figure size 2448x1440 with 1 Axes>"
      ]
     },
     "metadata": {
      "needs_background": "light"
     },
     "output_type": "display_data"
    }
   ],
   "source": [
    "fig, axes = plt.subplots(nrows = 1,ncols = 1,figsize = (34,20))\n",
    "\n",
    "plot_tree(dt,filled = True, rounded=True,feature_names=X3.columns)\n",
    "plt.show() "
   ]
  },
  {
   "cell_type": "markdown",
   "id": "44afe204-f611-4ffd-a954-0f6fbb5f81af",
   "metadata": {},
   "source": [
    "#### Plot the Features Importance"
   ]
  },
  {
   "cell_type": "code",
   "execution_count": null,
   "id": "e87fe201-423f-4ef0-9b38-79f4c367c773",
   "metadata": {},
   "outputs": [
    {
     "data": {
      "image/png": "[encoded data removed]",
      "text/plain": [
       "<Figure size 288x144 with 1 Axes>"
      ]
     },
     "metadata": {
      "needs_background": "light"
     },
     "output_type": "display_data"
    }
   ],
   "source": [
    "plt.figure(figsize=(4,2))\n",
    "plt.barh(X3.columns, dt.feature_importances_)\n",
    "plt.show()\n"
   ]
  },
  {
   "cell_type": "code",
   "execution_count": null,
   "id": "16c81181-8857-48b7-8d5a-39ac6ddf6783",
   "metadata": {},
   "outputs": [],
   "source": []
  },
  {
   "cell_type": "markdown",
   "id": "90f860e1-0027-4140-b7fc-193beffe9547",
   "metadata": {
    "tags": []
   },
   "source": [
    "## Round 3\n",
    "\n",
    "apply K-fold cross validation on your models before and check the model score.\n",
    "\n",
    "Note: So far we have not balanced the data.\n",
    "\n",
    "## Round 4\n",
    "\n",
    "fit a Random forest Classifier on the data and compare the accuracy.\n",
    "\n",
    "tune the hyper paramters with gridsearch and check the results.\n",
    "\n",
    "Managing imbalance in the dataset\n",
    "\n",
    "Check for the imbalance.\n",
    "Use the resampling strategies used in class for upsampling and downsampling to create a balance between the two classes.\n",
    "Each time fit the model and see how the accuracy of the model is."
   ]
  },
  {
   "cell_type": "markdown",
   "id": "448afe2d-c294-4b78-9941-24b5cc64b4dd",
   "metadata": {},
   "source": [
    "### Import Lybraries for K-fold Cross Validation\n"
   ]
  },
  {
   "cell_type": "code",
   "execution_count": null,
   "id": "ba254dfb-1e02-4ef4-9b49-cf41208693dc",
   "metadata": {},
   "outputs": [],
   "source": [
    "from sklearn.datasets import load_boston\n",
    "from sklearn.datasets import load_iris\n",
    "\n",
    "from sklearn.model_selection import cross_val_score\n",
    "from sklearn.model_selection import cross_val_predict\n",
    "\n",
    "from sklearn.model_selection import train_test_split\n",
    "\n",
    "from sklearn.linear_model import LinearRegression\n",
    "from sklearn.neighbors import KNeighborsRegressor\n",
    "from sklearn.tree import DecisionTreeClassifier\n",
    "from sklearn.tree import DecisionTreeRegressor\n",
    "import warnings\n",
    "warnings.filterwarnings('ignore')"
   ]
  },
  {
   "cell_type": "markdown",
   "id": "abc9589a-03be-4259-b06d-9bc5e775185a",
   "metadata": {},
   "source": [
    "### K-fold Cross Validation\n",
    "\n",
    "Note: This technique test the model splitting the training set (the records in the set) in K subsets (folds), which contain more than one single observation.\n",
    "Then, it runs one model each time leaving of one the subsets out of the training, and then evaluates the resulting model on the left out subset. "
   ]
  },
  {
   "cell_type": "code",
   "execution_count": null,
   "id": "0ddd21fd-943d-4bfd-9610-937d14e54101",
   "metadata": {},
   "outputs": [
    {
     "name": "stdout",
     "output_type": "stream",
     "text": [
      "(5625, 4)\n"
     ]
    },
    {
     "data": {
      "text/plain": [
       "0.7228144989339019"
      ]
     },
     "execution_count": 273,
     "metadata": {},
     "output_type": "execute_result"
    }
   ],
   "source": [
    "X4 = churnData[['tenure','SeniorCitizen', 'MonthlyCharges','TotalCharges']]\n",
    "y4 = churnData[['Churn']]\n",
    "\n",
    "X4_train, X4_test, y4_train, y4_test = train_test_split(X4, y4, test_size=0.20)\n",
    "\n",
    "# or model = DecisionTreeRegressor()\n",
    "model = DecisionTreeClassifier()\n",
    "\n",
    "model.fit(X4_train, y4_train)\n",
    "\n",
    "print(X4_train.shape)\n",
    "model.score(X4_test, y4_test)\n",
    "\n",
    "# model.score give you the R2 values for Linear Regression analysis (with continues/numerical values)\n",
    "## or the accuracy values in case you do Classification Analysis (with categorical records).\n",
    "\n"
   ]
  },
  {
   "cell_type": "code",
   "execution_count": null,
   "id": "8d510a60-2be9-42c6-994e-1a840939c9ec",
   "metadata": {},
   "outputs": [
    {
     "data": {
      "text/plain": [
       "array([0.71580817, 0.72824156, 0.71936057, 0.71403197, 0.73357016,\n",
       "       0.72597865, 0.67615658, 0.71352313, 0.6975089 , 0.73843416])"
      ]
     },
     "execution_count": 274,
     "metadata": {},
     "output_type": "execute_result"
    }
   ],
   "source": [
    "scores = cross_val_score(model, X_train, y_train, cv=10)\n",
    "scores\n",
    "\n",
    "# cv = is the number of groups in which the records are randomly divided"
   ]
  },
  {
   "cell_type": "code",
   "execution_count": null,
   "id": "798655a3-d9c4-4c95-bdb9-eb427c43eb42",
   "metadata": {},
   "outputs": [
    {
     "name": "stdout",
     "output_type": "stream",
     "text": [
      "0.72 accuracy with a standard deviation of 0.02\n"
     ]
    }
   ],
   "source": [
    "print(\"%0.2f accuracy with a standard deviation of %0.2f\" % (scores.mean(), scores.std()))"
   ]
  },
  {
   "cell_type": "code",
   "execution_count": null,
   "id": "98d08752-5ece-497a-936c-2380178ee603",
   "metadata": {},
   "outputs": [],
   "source": [
    "# result of the cross validation has 0.72 accuracy and a standard deviation of 0.01."
   ]
  },
  {
   "cell_type": "markdown",
   "id": "5467415b-86ca-4a01-8c70-4f48d61ee805",
   "metadata": {},
   "source": [
    "### Balancing the Data\n",
    "To Balance the data you can use the following methods:\n",
    "- 1. Downsampling Method\n",
    "- 2. Upsampling Method 1\n",
    "- 3. Upsampling Method 2\n",
    "- 4. Downsampling using Tomeklinks\n"
   ]
  },
  {
   "cell_type": "code",
   "execution_count": null,
   "id": "aba5eda9-c5e3-4267-9dce-3f914d726ed3",
   "metadata": {},
   "outputs": [],
   "source": [
    "# check if the data in the Target set are balanced or not"
   ]
  },
  {
   "cell_type": "code",
   "execution_count": null,
   "id": "2bfc1c54-b1e9-47ba-8694-b482bfc023fc",
   "metadata": {},
   "outputs": [
    {
     "data": {
      "text/plain": [
       "Churn\n",
       "No       5163\n",
       "Yes      1869\n",
       "dtype: int64"
      ]
     },
     "execution_count": 278,
     "metadata": {},
     "output_type": "execute_result"
    }
   ],
   "source": [
    "y4.value_counts()"
   ]
  },
  {
   "cell_type": "code",
   "execution_count": null,
   "id": "40f2ca3d-69ad-4798-afc8-186aeae61956",
   "metadata": {},
   "outputs": [],
   "source": [
    "# since the data set is not balanced we test the Upsampling and Downsampling methods to balance it."
   ]
  },
  {
   "cell_type": "markdown",
   "id": "63e741c7-6f97-44a2-8492-4703e84023ee",
   "metadata": {},
   "source": [
    "### 1. Downsampling Method"
   ]
  },
  {
   "cell_type": "code",
   "execution_count": null,
   "id": "06033cbd-9124-4d46-88c9-a23090e0c8e3",
   "metadata": {},
   "outputs": [
    {
     "name": "stdout",
     "output_type": "stream",
     "text": [
      "(1869, 5)\n",
      "(5163, 5)\n"
     ]
    }
   ],
   "source": [
    "# merge X and y sets and split all the data set in 2 groups by the 2 variables of the target column (yes/no)\n",
    "\n",
    "X_and_y = churnData[['tenure','SeniorCitizen', 'MonthlyCharges','TotalCharges','Churn']]\n",
    "\n",
    "\n",
    "Churn_yes = X_and_y[X_and_y['Churn'] == 'Yes']\n",
    "Churn_no = X_and_y[X_and_y['Churn'] == 'No']\n",
    "\n",
    "print(Churn_yes.shape)\n",
    "print(Churn_no.shape)"
   ]
  },
  {
   "cell_type": "code",
   "execution_count": null,
   "id": "f0e559ff-3145-4d82-bdb0-9a3927e5e8c1",
   "metadata": {},
   "outputs": [
    {
     "name": "stdout",
     "output_type": "stream",
     "text": [
      "(1869, 5)\n",
      "(1869, 5)\n"
     ]
    }
   ],
   "source": [
    "# reduce the bigger group to the same size of the smaller one.\n",
    "\n",
    "Churn_no_down = Churn_no.sample(len(Churn_yes,))\n",
    "print(Churn_no_down.shape)\n",
    "print(Churn_yes.shape)"
   ]
  },
  {
   "cell_type": "code",
   "execution_count": null,
   "id": "3d818c7f-16d1-4fab-be72-70539925b783",
   "metadata": {},
   "outputs": [
    {
     "data": {
      "text/plain": [
       "Yes    1869\n",
       "No     1869\n",
       "Name: Churn, dtype: int64"
      ]
     },
     "execution_count": 282,
     "metadata": {},
     "output_type": "execute_result"
    }
   ],
   "source": [
    "#concatenate the 2 groups again\n",
    "data_X_y = pd.concat([Churn_no_down, Churn_yes], axis=0)\n",
    "# axis=0 refers to the column\n",
    "\n",
    "\n",
    "#shuffling the data\n",
    "data_DownSampled = data_X_y.sample(frac=1)\n",
    "\n",
    "# data.sample(frac=1) => this method helps to shaffle/mix all the records in the data sets (mix train and test records that were splitted before).\n",
    "# frac = refers to data fraction / with =1 is all the data (= 100%). \n",
    "\n",
    "data_DownSampled['Churn'].value_counts()"
   ]
  },
  {
   "cell_type": "code",
   "execution_count": null,
   "id": "8aba3243-8ecb-4066-8240-313d14d1a9ef",
   "metadata": {},
   "outputs": [],
   "source": []
  },
  {
   "cell_type": "markdown",
   "id": "77d46394-a99a-44c5-8000-d737320292e8",
   "metadata": {
    "tags": []
   },
   "source": [
    "### Test and compare the Classification Models again with the new Downsamplig data set"
   ]
  },
  {
   "cell_type": "code",
   "execution_count": null,
   "id": "22edeeda-a14b-4dcc-8a50-1f7cd75cfbe7",
   "metadata": {},
   "outputs": [
    {
     "name": "stdout",
     "output_type": "stream",
     "text": [
      "{'Classifier Tree': 0.6535555045805795, 'Logistic Regression': 0.7300755544723373, 'KNN Classifier': 0.6888768619804735}\n"
     ]
    }
   ],
   "source": [
    "X_downsampled = data_X_y[['tenure','SeniorCitizen', 'MonthlyCharges','TotalCharges']]\n",
    "y_downsampled = data_X_y[['Churn']]\n",
    "\n",
    "model1 = DecisionTreeClassifier()\n",
    "\n",
    "model2 = LogisticRegression()\n",
    "\n",
    "model3 = KNeighborsClassifier()\n",
    "\n",
    "model4 = DecisionTreeClassifier(max_features=4, random_state=123, max_depth=6, min_samples_split=5, min_samples_leaf=1)\n",
    "\n",
    "\n",
    "model_pipeline = [model1, model2, model3]\n",
    "model_names = ['Classifier Tree', 'Logistic Regression', 'KNN Classifier', 'Decision Tree']\n",
    "scores = {}\n",
    "i=0\n",
    "for model in model_pipeline:\n",
    "    mean_score = np.mean(cross_val_score(model, X_downsampled, y_downsampled, cv=10))\n",
    "    scores[model_names[i]] = mean_score\n",
    "    i = i+1\n",
    "    \n",
    "print(scores)"
   ]
  },
  {
   "cell_type": "code",
   "execution_count": null,
   "id": "a701b790-9c27-41a7-b4c9-d2a220090f8d",
   "metadata": {},
   "outputs": [],
   "source": [
    "\n"
   ]
  },
  {
   "cell_type": "markdown",
   "id": "bc800df7-1d5e-4244-a540-c2d441f37763",
   "metadata": {},
   "source": [
    "### 2. Upsampling Method 1\n",
    "This method take the data that are too less and to increase the data set take randomly some records and duplicate them.\n",
    "- problem: redondance of data."
   ]
  },
  {
   "cell_type": "code",
   "execution_count": null,
   "id": "cc33c5cd-368f-4120-a233-4f9157b077be",
   "metadata": {},
   "outputs": [],
   "source": [
    "X_and_y_2 = churnData[['tenure','SeniorCitizen', 'MonthlyCharges','TotalCharges','Churn']]\n",
    "\n",
    "Churn_yes_2 = X_and_y_2[X_and_y_2['Churn'] == 'Yes']\n",
    "Churn_no_2 = X_and_y_2[X_and_y_2['Churn'] == 'No']\n"
   ]
  },
  {
   "cell_type": "code",
   "execution_count": null,
   "id": "8ebca30b-9f9f-449d-9bd6-08eab85c8294",
   "metadata": {},
   "outputs": [
    {
     "data": {
      "text/plain": [
       "(1869, 5)"
      ]
     },
     "execution_count": 285,
     "metadata": {},
     "output_type": "execute_result"
    }
   ],
   "source": [
    "Churn_yes_2.shape"
   ]
  },
  {
   "cell_type": "code",
   "execution_count": null,
   "id": "8aca1609-a717-4952-be5b-d69714264ded",
   "metadata": {},
   "outputs": [
    {
     "data": {
      "text/plain": [
       "(5163, 5)"
      ]
     },
     "execution_count": 286,
     "metadata": {},
     "output_type": "execute_result"
    }
   ],
   "source": [
    "Churn_no_2.shape"
   ]
  },
  {
   "cell_type": "code",
   "execution_count": null,
   "id": "68b60a9c-9263-4c1e-950a-fe5678caebe2",
   "metadata": {},
   "outputs": [
    {
     "name": "stdout",
     "output_type": "stream",
     "text": [
      "(5163, 5)\n"
     ]
    }
   ],
   "source": [
    "# we have more 'No' than 'Yes', so we increase the 'Yes' records.\n",
    "\n",
    "Churn_yes_Up = Churn_yes_2.sample(len(Churn_no_2), replace=True)\n",
    "print(Churn_yes_Up.shape)"
   ]
  },
  {
   "cell_type": "code",
   "execution_count": null,
   "id": "af3f6f64-23a6-493e-9e24-b022d8c9960f",
   "metadata": {},
   "outputs": [
    {
     "data": {
      "text/plain": [
       "No     5163\n",
       "Yes    5163\n",
       "Name: Churn, dtype: int64"
      ]
     },
     "execution_count": 288,
     "metadata": {},
     "output_type": "execute_result"
    }
   ],
   "source": [
    "data_YesUp_No = pd.concat([Churn_yes_Up, Churn_no_2], axis=0)\n",
    "\n",
    "#shuffling the data\n",
    "data_Upsampled = data_YesUp_No.sample(frac=1)\n",
    "data_Upsampled['Churn'].value_counts()"
   ]
  },
  {
   "cell_type": "markdown",
   "id": "e1a0450c-e6ee-47a9-a190-515e0333b399",
   "metadata": {},
   "source": [
    "### Test and compare the Classification Models again with the new Upsamplig data set"
   ]
  },
  {
   "cell_type": "code",
   "execution_count": null,
   "id": "f8a25a9a-946a-41d0-afeb-0a3796f14b18",
   "metadata": {},
   "outputs": [
    {
     "name": "stdout",
     "output_type": "stream",
     "text": [
      "{'Classifier Tree': 0.8746861328110344, 'Logistic Regression': 0.733779182331885, 'KNN Classifier': 0.7629271820617304, 'Decision Tree': 0.7507280105360319}\n"
     ]
    }
   ],
   "source": [
    "X_Upsampled = data_Upsampled[['tenure','SeniorCitizen', 'MonthlyCharges','TotalCharges']]\n",
    "y_Upsampled = data_Upsampled[['Churn']]\n",
    "\n",
    "model1 = DecisionTreeClassifier()\n",
    "\n",
    "model2 = LogisticRegression()\n",
    "\n",
    "model3 = KNeighborsClassifier()\n",
    "\n",
    "model4 = DecisionTreeClassifier(max_features=4, random_state=123, max_depth=6, min_samples_split=5, min_samples_leaf=1)\n",
    "\n",
    "\n",
    "\n",
    "model_pipeline = [model1, model2, model3, model4]\n",
    "model_names = ['Classifier Tree', 'Logistic Regression', 'KNN Classifier', 'Decision Tree']\n",
    "scores = {}\n",
    "i=0\n",
    "for model in model_pipeline:\n",
    "    mean_score = np.mean(cross_val_score(model, X_Upsampled, y_Upsampled, cv=10))\n",
    "    scores[model_names[i]] = mean_score\n",
    "    i = i+1\n",
    "    \n",
    "print(scores)"
   ]
  },
  {
   "cell_type": "code",
   "execution_count": null,
   "id": "199cc055-2c3d-47a7-9911-dfdda537afbf",
   "metadata": {},
   "outputs": [],
   "source": []
  },
  {
   "cell_type": "markdown",
   "id": "eb89cab6-2a4b-4625-a155-a279f560d84c",
   "metadata": {
    "tags": []
   },
   "source": [
    "### 3. Upsampling Method 2:\n",
    "### Upsampling using SMOTE (Synthetic Minority Over-sampling Technique)\n",
    "It randomly picks a point from the minority class.\n",
    "Compute the k-nearest neighbors (for some pre-specified k) for this point.\n",
    "Add k new points somewhere between the chosen point and each of its neighbors.\n",
    "\n",
    "\n",
    "To let it works:\n",
    "\n",
    "install it using one of the following:\n",
    "\n",
    "conda install -c conda-forge imbalanced-learn\n",
    "\n",
    "conda install -c glemaitre imbalanced-learn\n",
    "\n",
    "The SMOTE algorithm can be broken down into following steps:"
   ]
  },
  {
   "cell_type": "code",
   "execution_count": null,
   "id": "5a2b65e0-35c2-4904-b1b2-0f7dd883b6a1",
   "metadata": {},
   "outputs": [],
   "source": [
    "from imblearn.over_sampling import SMOTE\n",
    "smote = SMOTE()"
   ]
  },
  {
   "cell_type": "code",
   "execution_count": null,
   "id": "1ac3f329-b2e6-4699-9cb8-5b107c851d9e",
   "metadata": {},
   "outputs": [],
   "source": [
    "X6 = churnData[['tenure','SeniorCitizen', 'MonthlyCharges','TotalCharges']]\n",
    "y6 = churnData[['Churn']]"
   ]
  },
  {
   "cell_type": "code",
   "execution_count": null,
   "id": "115f5a0c-945d-4834-9b0e-7ac9aaff5e38",
   "metadata": {},
   "outputs": [
    {
     "data": {
      "text/plain": [
       "Churn\n",
       "No       5163\n",
       "Yes      1869\n",
       "dtype: int64"
      ]
     },
     "execution_count": 292,
     "metadata": {},
     "output_type": "execute_result"
    }
   ],
   "source": [
    "y6.value_counts()"
   ]
  },
  {
   "cell_type": "code",
   "execution_count": null,
   "id": "af404281-344c-415a-8dc4-ecb8241242be",
   "metadata": {},
   "outputs": [
    {
     "data": {
      "text/plain": [
       "Churn\n",
       "No       5163\n",
       "Yes      5163\n",
       "dtype: int64"
      ]
     },
     "execution_count": 293,
     "metadata": {},
     "output_type": "execute_result"
    }
   ],
   "source": [
    "X_sm, y_sm = smote.fit_resample(X6, y6)\n",
    "y_sm.value_counts()"
   ]
  },
  {
   "cell_type": "markdown",
   "id": "ca356174-a13b-4528-bd77-99e0f6f73353",
   "metadata": {},
   "source": [
    "### Test and compare the Classification Models again with the new Upsamplig data set"
   ]
  },
  {
   "cell_type": "code",
   "execution_count": null,
   "id": "176f0bc6-92f7-4545-aa54-3b56e11a6568",
   "metadata": {},
   "outputs": [
    {
     "name": "stdout",
     "output_type": "stream",
     "text": [
      "{'Classifier Tree': 0.7477317326669517, 'Logistic Regression': 0.7350402793099049, 'KNN Classifier': 0.7705841906991753, 'Decision Tree': 0.7486959409261803}\n"
     ]
    }
   ],
   "source": [
    "X_sm = X_sm[['tenure','SeniorCitizen', 'MonthlyCharges','TotalCharges']]\n",
    "y_sm = y_sm[['Churn']]\n",
    "\n",
    "model1 = DecisionTreeClassifier()\n",
    "\n",
    "model2 = LogisticRegression()\n",
    "\n",
    "model3 = KNeighborsClassifier()\n",
    "\n",
    "model4 = DecisionTreeClassifier(max_features=4, random_state=123, max_depth=6, min_samples_split=5, min_samples_leaf=1)\n",
    "\n",
    "\n",
    "\n",
    "model_pipeline = [model1, model2, model3, model4]\n",
    "model_names = ['Classifier Tree', 'Logistic Regression', 'KNN Classifier', 'Decision Tree']\n",
    "scores = {}\n",
    "i=0\n",
    "for model in model_pipeline:\n",
    "    mean_score = np.mean(cross_val_score(model, X_sm, y_sm, cv=10))\n",
    "    scores[model_names[i]] = mean_score\n",
    "    i = i+1\n",
    "    \n",
    "print(scores)"
   ]
  },
  {
   "cell_type": "code",
   "execution_count": null,
   "id": "8507b2f7-dbb2-47a1-ba97-19698d4d20b1",
   "metadata": {},
   "outputs": [],
   "source": []
  },
  {
   "cell_type": "markdown",
   "id": "991c46a2-8485-401b-9efe-63d2e11e759e",
   "metadata": {},
   "source": [
    "### 4. Downsampling using Tomeklinks\n",
    "TomekLinks are pairs of very close instances, but of opposite classes. Removing the instances of the majority class of each pair increases the space between the two classes, facilitating the classification process.\n",
    "It does not make the two classes equal but only removes the points from the majority class that are close to other points in minority class.\n"
   ]
  },
  {
   "cell_type": "code",
   "execution_count": null,
   "id": "9e5e1575-3605-48bc-934c-8350dea9e952",
   "metadata": {},
   "outputs": [
    {
     "data": {
      "text/plain": [
       "Churn\n",
       "No       5163\n",
       "Yes      1869\n",
       "dtype: int64"
      ]
     },
     "execution_count": 295,
     "metadata": {},
     "output_type": "execute_result"
    }
   ],
   "source": [
    "X7 = churnData[['tenure','SeniorCitizen', 'MonthlyCharges','TotalCharges']]\n",
    "y7 = churnData[['Churn']]\n",
    "y7.value_counts()"
   ]
  },
  {
   "cell_type": "code",
   "execution_count": null,
   "id": "3747b77f-bc18-45f9-a6be-0b41d1b3da29",
   "metadata": {},
   "outputs": [
    {
     "data": {
      "text/plain": [
       "Churn\n",
       "No       4609\n",
       "Yes      1869\n",
       "dtype: int64"
      ]
     },
     "execution_count": 296,
     "metadata": {},
     "output_type": "execute_result"
    }
   ],
   "source": [
    "from imblearn.under_sampling import TomekLinks\n",
    "\n",
    "tl = TomekLinks('majority')\n",
    "X7_tl, y7_tl = tl.fit_resample(X7, y7)\n",
    "y7_tl.value_counts()"
   ]
  },
  {
   "cell_type": "markdown",
   "id": "304856e8-5481-4c9f-94e7-b618c10e8431",
   "metadata": {},
   "source": [
    "### Test and compare the Classification Models again with the new Downsamplig data set"
   ]
  },
  {
   "cell_type": "code",
   "execution_count": null,
   "id": "f09b1293-243b-437a-a991-180ab24179fc",
   "metadata": {},
   "outputs": [
    {
     "name": "stdout",
     "output_type": "stream",
     "text": [
      "{'Classifier Tree': 0.7439013395157135, 'Logistic Regression': 0.7920680920487722, 'KNN Classifier': 0.7774044974907933, 'Decision Tree': 0.7931512011754155}\n"
     ]
    }
   ],
   "source": [
    "X7_tl = X7_tl[['tenure','SeniorCitizen', 'MonthlyCharges','TotalCharges']]\n",
    "y7_tl = y7_tl[['Churn']]\n",
    "\n",
    "model1 = DecisionTreeClassifier()\n",
    "\n",
    "model2 = LogisticRegression()\n",
    "\n",
    "model3 = KNeighborsClassifier()\n",
    "\n",
    "model4 = DecisionTreeClassifier(max_features=4, random_state=123, max_depth=6, min_samples_split=5, min_samples_leaf=1)\n",
    "\n",
    "\n",
    "\n",
    "model_pipeline = [model1, model2, model3, model4]\n",
    "model_names = ['Classifier Tree', 'Logistic Regression', 'KNN Classifier', 'Decision Tree']\n",
    "scores = {}\n",
    "i=0\n",
    "for model in model_pipeline:\n",
    "    mean_score = np.mean(cross_val_score(model, X7_tl, y7_tl, cv=10))\n",
    "    scores[model_names[i]] = mean_score\n",
    "    i = i+1\n",
    "    \n",
    "print(scores)"
   ]
  },
  {
   "cell_type": "code",
   "execution_count": null,
   "id": "33790f6e-7c49-44c9-bb17-fd9a06716834",
   "metadata": {},
   "outputs": [],
   "source": []
  }
 ],
 "metadata": {
  "kernelspec": {
   "display_name": "Python 3 (ipykernel)",
   "language": "python",
   "name": "python3"
  },
  "language_info": {
   "codemirror_mode": {
    "name": "ipython",
    "version": 3
   },
   "file_extension": ".py",
   "mimetype": "text/x-python",
   "name": "python",
   "nbconvert_exporter": "python",
   "pygments_lexer": "ipython3",
   "version": "3.9.7"
  }
 },
 "nbformat": 4,
 "nbformat_minor": 5
}
